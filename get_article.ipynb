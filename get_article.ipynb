{
 "cells": [
  {
   "cell_type": "code",
   "execution_count": 1,
   "metadata": {},
   "outputs": [],
   "source": [
    "import pandas as pd"
   ]
  },
  {
   "cell_type": "code",
   "execution_count": 8,
   "metadata": {},
   "outputs": [],
   "source": [
    "df = pd.read_pickle(\"data/uconn_corp.pickle\")\n",
    "uconn_text = \" \".join(df['Text'])"
   ]
  },
  {
   "cell_type": "code",
   "execution_count": 23,
   "metadata": {},
   "outputs": [
    {
     "name": "stdout",
     "output_type": "stream",
     "text": [
      "the short summary has  111 words \n",
      "the long summary has  216 words \n"
     ]
    }
   ],
   "source": [
    "## When passed into ChatGPT the output was: \n",
    "\n",
    "gpt = '''\n",
    "The article discusses how the success of the UConn women’s basketball team this season will depend heavily on the performance of senior point guard Crystal Dangerfield. \n",
    "With several key players having left, Dangerfield is the only senior on the team and will be expected to lead. Coach Geno Auriemma noted that the team doesn't have many \n",
    "“ready-made giants of the sport” for Dangerfield to pass to, so she will have to score more than some of the program's previous point guards. Although Dangerfield has shown \n",
    "flashes of greatness, she has also faded at times, so she will need to perform consistently at a high level for the team to be successful.\n",
    "'''\n",
    "\n",
    "gpt_large = '''\n",
    "The success of the UConn women’s basketball team this season is dependent on the performance of their senior point guard, Crystal Dangerfield. \n",
    "She is the team's only senior player and has been named the American Athletic Conference’s preseason co-player of the year. Dangerfield is expected \n",
    "to play a crucial role in a season that could either be a continuation of the team's winning streak or a period of transition. With key players \n",
    "Napheesa Collier and Katie Lou Samuelson no longer on the team, UConn has a relatively inexperienced roster, and it's uncertain how they will fare in the upcoming season.\n",
    "Dangerfield will have to take on a leadership role and score more to compensate for the absence of All-American players. She had surgery to correct a hip impingement during \n",
    "the off-season but is expected to be fully recovered. Head coach Geno Auriemma hopes that Dangerfield will be consistently great this season, citing her performance \n",
    "in the past when she scored 19 points, five assists, and four rebounds in a game against Baylor during her freshman year, and when she helped the team survive a \n",
    "Sweet 16 scare against UCLA last season. The Huskies have the potential to win a national championship, but it will depend on Dangerfield's performance and the development \n",
    "of the rest of the team.\n",
    "'''\n",
    "\n",
    "print(\"the short summary has \", len(gpt.split(\" \")), \"words \")\n",
    "print(\"the long summary has \", len(gpt_large.split(\" \")), \"words \")\n"
   ]
  },
  {
   "cell_type": "code",
   "execution_count": 27,
   "metadata": {},
   "outputs": [
    {
     "name": "stdout",
     "output_type": "stream",
     "text": [
      "Small summarizer: \n",
      "\n",
      "If the UConn women’s basketball team is going to be good this season — as in, back-to-the-Final Four good — Crystal Dangerfield will have to be great. “And [the point guard] could score. Sophomore Christyn Williams is one of the most talented players in the sport and that she ended up on the preseason second team, and not the first, is a joke. How many of those did you have as a sophomore? You know what the chances are of the Huskies advancing for the 13th year in a row without a healthy and consistent Dangerfield taking over and pulling? Crystal is going to have to do that every game.\n",
      "\n",
      "Large summarizer: \n",
      "\n",
      "If the UConn women’s basketball team is going to be good this season — as in, back-to-the-Final Four good — Crystal Dangerfield will have to be great. “And [the point guard] could score. That makes her job a little more difficult. Junior Megan Walker, named all-conference first team, is capable of a breakout season. Sophomore Christyn Williams is one of the most talented players in the sport and that she ended up on the preseason second team, and not the first, is a joke. How many of those did you have as a sophomore? Last year’s UCLA game, where she just took over and almost singlehandedly won the game, how many did you have? Of leading the team, Dangerfield said, “You have to take more responsibility for what happens, what goes wrong. “In order to be great at that position, you have to have a certain personality type,” Auriemma said. Crystal is going to have to do that every game. UConn women’s basketball fans got their first look at the 2019-20 Huskies, including three of the program’s newcomers, in a 103-40 exhibition win over Division II Jefferson Sunday afternoon at Gampel Pavilion. Evelyn Adebayo was the last available player to come off the bench with under two minutes remaining in the second half.\n"
     ]
    }
   ],
   "source": [
    "import multisum \n",
    "\n",
    "print(\"Small summarizer: \\n\")\n",
    "small = multisum.summarize_pretending_one(df, 111, 'sentances')\n",
    "print(small)\n",
    "\n",
    "print(\"\\nLarge summarizer: \\n\")\n",
    "large = multisum.summarize_pretending_one(df, 216, 'sentances')\n",
    "print(large)"
   ]
  },
  {
   "cell_type": "code",
   "execution_count": 28,
   "metadata": {},
   "outputs": [],
   "source": [
    "import spacy\n",
    "import en_core_web_sm\n",
    "\n",
    "## get entitys extracted from ChatGPT \n",
    "\n",
    "nlp = en_core_web_sm.load()\n",
    "sum_doc = nlp(gpt_large)\n",
    "sum_df = pd.DataFrame()\n",
    "sum_df['label'] = [i.label_ for i in sum_doc.ents]\n",
    "sum_df['text'] = [i.text for i in sum_doc.ents]\n",
    "sum_set_gpt = set(zip(sum_df['label'], sum_df['text']))\n",
    "\n",
    "## get entitys from OCCAMS \n",
    "\n",
    "nlp = en_core_web_sm.load()\n",
    "sum_doc = nlp(large)\n",
    "sum_df = pd.DataFrame()\n",
    "sum_df['label'] = [i.label_ for i in sum_doc.ents]\n",
    "sum_df['text'] = [i.text for i in sum_doc.ents]\n",
    "sum_set_large = set(zip(sum_df['label'], sum_df['text']))"
   ]
  }
 ],
 "metadata": {
  "kernelspec": {
   "display_name": "occams3.7",
   "language": "python",
   "name": "python3"
  },
  "language_info": {
   "codemirror_mode": {
    "name": "ipython",
    "version": 3
   },
   "file_extension": ".py",
   "mimetype": "text/x-python",
   "name": "python",
   "nbconvert_exporter": "python",
   "pygments_lexer": "ipython3",
   "version": "3.7.4"
  },
  "orig_nbformat": 4,
  "vscode": {
   "interpreter": {
    "hash": "8beea8260e8a0211764c546bcd087b5189015caeef384e65eb82621e67392f0f"
   }
  }
 },
 "nbformat": 4,
 "nbformat_minor": 2
}
