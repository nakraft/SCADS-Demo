{
 "cells": [
  {
   "cell_type": "code",
   "execution_count": 1,
   "metadata": {},
   "outputs": [],
   "source": [
    "import pandas as pd\n",
    "import sqlite3\n",
    "import multisum as msu"
   ]
  },
  {
   "cell_type": "markdown",
   "metadata": {},
   "source": [
    "## Access Database"
   ]
  },
  {
   "cell_type": "code",
   "execution_count": 2,
   "metadata": {},
   "outputs": [
    {
     "data": {
      "text/plain": [
       "(22771, 6)"
      ]
     },
     "execution_count": 2,
     "metadata": {},
     "output_type": "execute_result"
    }
   ],
   "source": [
    "# get data from sqlite file\\n\",\n",
    "# resources: https://datacarpentry.org/python-ecology-lesson/09-working-with-sql/index.html\\n\",\n",
    "con = sqlite3.connect(\"data_large/news (1).sqlite\")\n",
    "\n",
    "# use this to check schema details and table names\n",
    "# cur = con.cursor()\n",
    "# cur.execute('SELECT * FROM sqlite_master')\n",
    "# cur.fetchall()\n",
    "\n",
    "df = pd.read_sql_query(\"SELECT * from article\", con)\n",
    "con.close()\n",
    "df.shape"
   ]
  },
  {
   "cell_type": "code",
   "execution_count": 3,
   "metadata": {},
   "outputs": [],
   "source": [
    "# Note: The database does not have the text from the article... boo. Merging values based on nid together.\n",
    "MIND_w_topics=pd.read_csv(\"~/efs/home/pcorona_content/MIND_Train_w_Topics.csv\")\n",
    "MIND_w_topics.sort_values(by=['Title', '_score_'], ascending=False, inplace=True)\n",
    "MIND_w_topics.drop_duplicates(subset=['__uniqueid__'], keep='first', inplace=True)"
   ]
  },
  {
   "cell_type": "code",
   "execution_count": 4,
   "metadata": {},
   "outputs": [
    {
     "data": {
      "text/html": [
       "<div>\n",
       "<style scoped>\n",
       "    .dataframe tbody tr th:only-of-type {\n",
       "        vertical-align: middle;\n",
       "    }\n",
       "\n",
       "    .dataframe tbody tr th {\n",
       "        vertical-align: top;\n",
       "    }\n",
       "\n",
       "    .dataframe thead th {\n",
       "        text-align: right;\n",
       "    }\n",
       "</style>\n",
       "<table border=\"1\" class=\"dataframe\">\n",
       "  <thead>\n",
       "    <tr style=\"text-align: right;\">\n",
       "      <th></th>\n",
       "      <th>nid</th>\n",
       "      <th>cat</th>\n",
       "      <th>subcat</th>\n",
       "      <th>Title</th>\n",
       "      <th>abstract</th>\n",
       "      <th>display_date</th>\n",
       "      <th>Text</th>\n",
       "    </tr>\n",
       "  </thead>\n",
       "  <tbody>\n",
       "    <tr>\n",
       "      <th>0</th>\n",
       "      <td>N61407</td>\n",
       "      <td>news</td>\n",
       "      <td>newspolitics</td>\n",
       "      <td>Giuliani associates: Debts, lawsuits and a hig...</td>\n",
       "      <td>As federal prosecutors pursue their case again...</td>\n",
       "      <td>11/09/2019</td>\n",
       "      <td>Weight loss has been the goal of many people a...</td>\n",
       "    </tr>\n",
       "    <tr>\n",
       "      <th>1</th>\n",
       "      <td>N31021</td>\n",
       "      <td>foodanddrink</td>\n",
       "      <td>newstrends</td>\n",
       "      <td>A Thai Soup Pop-Up Will Make a Fall Comeback a...</td>\n",
       "      <td>Plus, the Royal is all about Clue cocktails ne...</td>\n",
       "      <td>11/09/2019</td>\n",
       "      <td>There are less than two weeks until the Seattl...</td>\n",
       "    </tr>\n",
       "    <tr>\n",
       "      <th>2</th>\n",
       "      <td>N22152</td>\n",
       "      <td>news</td>\n",
       "      <td>newspolitics</td>\n",
       "      <td>Joe Biden To Campaign In Los Angeles Next Week</td>\n",
       "      <td>Former Vice President Joe Biden will speak a L...</td>\n",
       "      <td>11/09/2019</td>\n",
       "      <td>MADISON – The fit appeared to be perfect. The ...</td>\n",
       "    </tr>\n",
       "    <tr>\n",
       "      <th>3</th>\n",
       "      <td>N31914</td>\n",
       "      <td>travel</td>\n",
       "      <td>travelarticle</td>\n",
       "      <td>Voted 'Best Theme Park Christmas Event,' Dolly...</td>\n",
       "      <td>Get your jingle bells ready, because the Best ...</td>\n",
       "      <td>11/09/2019</td>\n",
       "      <td>Update: Jeannie Rice, 71, finished 23rd overal...</td>\n",
       "    </tr>\n",
       "    <tr>\n",
       "      <th>4</th>\n",
       "      <td>N14036</td>\n",
       "      <td>finance</td>\n",
       "      <td>finance-credit</td>\n",
       "      <td>16 Cases Where a Credit Card Beats Cash</td>\n",
       "      <td>Credit card or cash? If you're still wondering...</td>\n",
       "      <td>11/09/2019</td>\n",
       "      <td>The Denver Broncos are slowly crawling back in...</td>\n",
       "    </tr>\n",
       "  </tbody>\n",
       "</table>\n",
       "</div>"
      ],
      "text/plain": [
       "      nid           cat          subcat  \\\n",
       "0  N61407          news    newspolitics   \n",
       "1  N31021  foodanddrink      newstrends   \n",
       "2  N22152          news    newspolitics   \n",
       "3  N31914        travel   travelarticle   \n",
       "4  N14036       finance  finance-credit   \n",
       "\n",
       "                                               Title  \\\n",
       "0  Giuliani associates: Debts, lawsuits and a hig...   \n",
       "1  A Thai Soup Pop-Up Will Make a Fall Comeback a...   \n",
       "2     Joe Biden To Campaign In Los Angeles Next Week   \n",
       "3  Voted 'Best Theme Park Christmas Event,' Dolly...   \n",
       "4            16 Cases Where a Credit Card Beats Cash   \n",
       "\n",
       "                                            abstract display_date  \\\n",
       "0  As federal prosecutors pursue their case again...   11/09/2019   \n",
       "1  Plus, the Royal is all about Clue cocktails ne...   11/09/2019   \n",
       "2  Former Vice President Joe Biden will speak a L...   11/09/2019   \n",
       "3  Get your jingle bells ready, because the Best ...   11/09/2019   \n",
       "4  Credit card or cash? If you're still wondering...   11/09/2019   \n",
       "\n",
       "                                                Text  \n",
       "0  Weight loss has been the goal of many people a...  \n",
       "1  There are less than two weeks until the Seattl...  \n",
       "2  MADISON – The fit appeared to be perfect. The ...  \n",
       "3  Update: Jeannie Rice, 71, finished 23rd overal...  \n",
       "4  The Denver Broncos are slowly crawling back in...  "
      ]
     },
     "execution_count": 4,
     "metadata": {},
     "output_type": "execute_result"
    }
   ],
   "source": [
    "dff = df.merge(MIND_w_topics, how='left', left_on='nid', right_on='News ID')\n",
    "dff = dff[['nid', 'cat', 'subcat', 'title', 'abstract', 'display_date', 'Text']].rename(columns={'title':'Title'})\n",
    "dff.head()"
   ]
  },
  {
   "cell_type": "code",
   "execution_count": 5,
   "metadata": {},
   "outputs": [],
   "source": [
    "dff['summary'] = ''\n",
    "dff['weights'] = ''"
   ]
  },
  {
   "cell_type": "markdown",
   "metadata": {},
   "source": [
    "## Preprocess text data"
   ]
  },
  {
   "cell_type": "code",
   "execution_count": 6,
   "metadata": {},
   "outputs": [
    {
     "name": "stdout",
     "output_type": "stream",
     "text": [
      "0\n",
      "-------------------\n",
      "\n",
      "Summarizing 1 documents under scheme sentances\n",
      "Summary time: 0.0021576881408691406\n",
      "Summary generated in 124935 ns\n",
      "\n",
      " -----summary------ \n",
      "\n",
      "Weight loss has been the goal of many people across the world.                                                                                                                                                                                                                                              (Giuliani associates: Debts, lawsuits and a high-interest loan preceded associates' rise, 41.58)\n",
      "That is why many people seek fast and easy ways to lose weight.                                                                                                                                                                                                                                             (Giuliani associates: Debts, lawsuits and a high-interest loan preceded associates' rise, 40.93)\n",
      "The high number of deiters across the world led to the rise of numerous new forms of weight loss plans and diets.                                                                                                                                                                                           (Giuliani associates: Debts, lawsuits and a high-interest loan preceded associates' rise, 90.79)\n",
      "But aside from exercise and diet, there is another way to speed up weight loss.                                                                                                                                                                                                                             (Giuliani associates: Debts, lawsuits and a high-interest loan preceded associates' rise, 55.65)\n",
      "How Sleep Helps In Weight Loss Manage Your Time In Bed The quality and time of sleep could cause changes in the body that affect weight.                                                                                                                                                                    (Giuliani associates: Debts, lawsuits and a high-interest loan preceded associates' rise, 107.22)\n",
      "One study found that people who sleep five hours or less per night have higher risk of obesity.                                                                                                                                                                                                             (Giuliani associates: Debts, lawsuits and a high-interest loan preceded associates' rise, 72.8)\n",
      "Chronic sleep deprivation has also been linked to higher body mass index (BMI) in numerous population-based studies.                                                                                                                                                                                        (Giuliani associates: Debts, lawsuits and a high-interest loan preceded associates' rise, 71.8)\n",
      "Fix Your Sleep Habits Sleep affects the production of hunger hormones leptin and ghrelin in the body.                                                                                                                                                                                                       (Giuliani associates: Debts, lawsuits and a high-interest loan preceded associates' rise, 61.23)\n",
      "Leptin helps regulate appetite and feelings of fullness, while the presence of ghrelin makes you feel hungry, according to Healthline.                                                                                                                                                                      (Giuliani associates: Debts, lawsuits and a high-interest loan preceded associates' rise, 82.7)\n",
      "Research showed that the people who experienced sleep deprivation had lower circulating leptin and higher ghrelin production, which could lead to increased appetite and weight gain.                                                                                                                       (Giuliani associates: Debts, lawsuits and a high-interest loan preceded associates' rise, 102.53)\n",
      "Better Sleep Prevents Weight Gain Many people struggle to get the right amount of sleep due to their busy corporate life or responsibilities at home.                                                                                                                                                       (Giuliani associates: Debts, lawsuits and a high-interest loan preceded associates' rise, 105.07)\n",
      "\n",
      "1\n",
      "-------------------\n",
      "\n",
      "Summarizing 1 documents under scheme sentances\n",
      "Summary time: 0.002881288528442383\n",
      "Summary generated in 151013 ns\n",
      "\n",
      " -----summary------ \n",
      "\n",
      "It’s probably not fair to call the upcoming battle a “must win” for Seattle, but a loss puts them down three games and conceivably out of the running for the division title.                                                                                                                               (A Thai Soup Pop-Up Will Make a Fall Comeback at Toki Underground, 74.66)\n",
      "ESPN’s Power Rankings have the 49ers at #2, having finally passed the New Orleans Saints for the spot.                                                                                                                                                                                                      (A Thai Soup Pop-Up Will Make a Fall Comeback at Toki Underground, 39.01)\n",
      "The finest minds at ESPN have also been digging through the annals to point out how special the Niners are, especially the defense.                                                                                                                                                                         (A Thai Soup Pop-Up Will Make a Fall Comeback at Toki Underground, 56.14)\n",
      "Football Outsiders has the Niners obviously in second, but ranks the Los Angeles Rams, Saints and Pittsburgh Steelers as the 4th, 6th, and 9th best defenses by DVOA, respectively.                                                                                                                         (A Thai Soup Pop-Up Will Make a Fall Comeback at Toki Underground, 69.38)\n",
      "The Bucs are 15th by DVOA, making four top-half-of-league defensive opponents for the Hawks before they get San Francisco.                                                                                                                                                                                  (A Thai Soup Pop-Up Will Make a Fall Comeback at Toki Underground, 42.96)\n",
      "Nick Bosa has turned into quite the superstar for the Niners, especially in his recent demonstration of how to not get tackled by a quarterback twice in the same play.                                                                                                                                     (A Thai Soup Pop-Up Will Make a Fall Comeback at Toki Underground, 66.31)\n",
      "However, he’s still available for the occasional comment, and knows what’s at stake with the pair of Seattle games.                                                                                                                                                                                         (A Thai Soup Pop-Up Will Make a Fall Comeback at Toki Underground, 44.1)\n",
      "“It is time to play division opponents so that is what really matters,” he recently chipped in after a win.                                                                                                                                                                                                 (A Thai Soup Pop-Up Will Make a Fall Comeback at Toki Underground, 47.75)\n",
      "“We are not done.” Richard Sherman, on the other hand, just invented some brand new sunglasses or something that I’m definitely not going to go buy as soon as this is finished.                                                                                                                            (A Thai Soup Pop-Up Will Make a Fall Comeback at Toki Underground, 75.37)\n",
      "Recently Danny O’Neil of 710 AM espoused the deep stirring of a true rivalry: There is something about the 49ers that touches an emotional chord in me that the Rams do not.                                                                                                                                (A Thai Soup Pop-Up Will Make a Fall Comeback at Toki Underground, 76.79)\n",
      "… It was a rivalry that flared up and it was as intense as anything that we’ve seen in the NFL in the past 20 years.” Seattle-San Francisco carries such weight that fans all over the West Coast have been sitting on this matchup for months.                                                             (A Thai Soup Pop-Up Will Make a Fall Comeback at Toki Underground, 201.26)\n",
      "\n",
      "2\n",
      "-------------------\n",
      "\n",
      "Summarizing 1 documents under scheme sentances\n",
      "Summary time: 0.004111766815185547\n",
      "Summary generated in 200111 ns\n",
      "\n",
      " -----summary------ \n",
      "\n",
      "Under normal circumstances, Tucker probably wouldn’t have hesitated to accept Gard’s offer.                                                                                                                                                                                                                 (Joe Biden To Campaign In Los Angeles Next Week, 15.06)\n",
      "Yet anyone who follows the UW men’s basketball program understands the circumstances were anything but normal and why Tucker needed time before accepting challenge of working on game plans, tutoring players and wooing recruits.                                                                         (Joe Biden To Campaign In Los Angeles Next Week, 46.04)\n",
      "Tucker understood he would be taking over for assistant Howard Moore, who lost his wife and daughter and suffered severe burns in a horrific automobile accident on Memorial Day weekend.                                                                                                                   (Joe Biden To Campaign In Los Angeles Next Week, 40.59)\n",
      "“It wasn’t an overnight, easy decision for him.” Yet assistant coach Joe Krabbenhoft, who was a teammate of Tucker’s for two seasons, understood why the offer was eventually accepted.                                                                                                                     (Joe Biden To Campaign In Los Angeles Next Week, 38.66)\n",
      "“If something bad happens, you go, you do, you jump on board, you get in your car and your drive.                                                                                                                                                                                                           (Joe Biden To Campaign In Los Angeles Next Week, 26.1)\n",
      "I don’t think that is a question.” The question that Tucker, who is married and has two sons, had to ask: Do I want to spend more time on the road after I promised my family those days were behind us?                                                                                                    (Joe Biden To Campaign In Los Angeles Next Week, 55.03)\n",
      "“I think anytime you walk down that road, there is always some excitement in the unknown,” Gard said.                                                                                                                                                                                                       (Joe Biden To Campaign In Los Angeles Next Week, 23.08)\n",
      "“It was very good to have the summer where he could be here and be in the workouts and get his feet wet.                                                                                                                                                                                                    (Joe Biden To Campaign In Los Angeles Next Week, 29.9)\n",
      "This is an unbelievable opportunity to be able to coach on this level.                                                                                                                                                                                                                                      (Joe Biden To Campaign In Los Angeles Next Week, 15.76)\n",
      "Top Headlines from Sports: Davante Adams unsure of timetable for return from 'major injury' UW's Micah Potter must sit out the first semester Bucks' Kyle Korver flashes game-changing ability FOLLOW JS SPORTS: Like our Facebook Page for the latest news DOWNLOAD THE APP: Get the latest news, sports and more This article originally appeared on Milwaukee Journal Sentinel: Alando Tucker paused before filling in for Howard Moore at Wisconsin Related slideshow: Best of 2018-19 NCAA Tournament (provided by imagn)(Joe Biden To Campaign In Los Angeles Next Week, 105.8)\n",
      "\n",
      "3\n",
      "-------------------\n",
      "\n",
      "Summarizing 1 documents under scheme sentances\n",
      "Summary time: 0.005091667175292969\n",
      "Summary generated in 238007 ns\n",
      "\n",
      " -----summary------ \n",
      "\n",
      "Original story: Jeannie Rice figures she's run about 85,000 miles, or around the globe three times and more than a quarter of the way into her fourth.                                                                                                                                                      (Voted 'Best Theme Park Christmas Event,' Dollywood's 'Smoky Mountains Christmas' begins Saturday, 59.48)\n",
      "Like wine and cheese, the 71-year-old grandmother from just outside Cleveland, Ohio, is getting better with age.                                                                                                                                                                                            (Voted 'Best Theme Park Christmas Event,' Dollywood's 'Smoky Mountains Christmas' begins Saturday, 39.73)\n",
      "CONSIDER SUBSCRIBING TODAY: Help support our local journalism Then, this year in Berlin, Germany, on Sept. 29, she broke her own world record, clocking in at 3:24:48 despite running in a downpour the final hour.                                                                                         (Voted 'Best Theme Park Christmas Event,' Dollywood's 'Smoky Mountains Christmas' begins Saturday, 79.01)\n",
      "\"So many people at the (last runner's) expo recognize me.                                                                                                                                                                                                                                                   (Voted 'Best Theme Park Christmas Event,' Dollywood's 'Smoky Mountains Christmas' begins Saturday, 21.0)\n",
      "Rice actually is a winter resident for three to four months in Bonita Springs, on Florida's west coast.                                                                                                                                                                                                     (Voted 'Best Theme Park Christmas Event,' Dollywood's 'Smoky Mountains Christmas' begins Saturday, 41.0)\n",
      "Before that, however, will be the Thailand Marathon in December, the 120th marathon of her career.                                                                                                                                                                                                          (Voted 'Best Theme Park Christmas Event,' Dollywood's 'Smoky Mountains Christmas' begins Saturday, 34.28)\n",
      "A year later, when she saw Joan Benoit Samuelson run in the Olympics in Los Angeles, she was hooked.                                                                                                                                                                                                        (Voted 'Best Theme Park Christmas Event,' Dollywood's 'Smoky Mountains Christmas' begins Saturday, 42.85)\n",
      "By the time she ran her second one, in Columbus, she already had qualified for the Boston Marathon.                                                                                                                                                                                                         (Voted 'Best Theme Park Christmas Event,' Dollywood's 'Smoky Mountains Christmas' begins Saturday, 37.64)\n",
      "\"She's really amazing, an inspiration to runners of all ages,\" said Satellite Beach's Mitch Varnes, the event organizer for the Lighthouse 10K and Half Marathon.                                                                                                                                           (Voted 'Best Theme Park Christmas Event,' Dollywood's 'Smoky Mountains Christmas' begins Saturday, 56.62)\n",
      "No ice cream, or sponsors At 5-foot-2 (\"and probably shrinking to 5½,\" she joked) and just 98 pounds (her same weight as in high school), Rice stays in tremendous shape, running 50 miles a week and even 65 miles as the big events inch closer.                                                          (Voted 'Best Theme Park Christmas Event,' Dollywood's 'Smoky Mountains Christmas' begins Saturday, 103.27)\n",
      "\"Just a low-fat diet,\" said Rice, who drinks a gallon of water each day.                                                                                                                                                                                                                                    (Voted 'Best Theme Park Christmas Event,' Dollywood's 'Smoky Mountains Christmas' begins Saturday, 32.28)\n",
      "More: Part-time Bonita Springs resident Jeannie Rice sets 70-plus world half-marathon record Amazingly, her remarkable running career has landed zero sponsors, and she's not about to begin reaching out to them.                                                                                          (Voted 'Best Theme Park Christmas Event,' Dollywood's 'Smoky Mountains Christmas' begins Saturday, 70.91)\n",
      "She said it takes about three or four days to recover from a marathon, but \"I still run the day after\" to stay loose.                                                                                                                                                                                       (Voted 'Best Theme Park Christmas Event,' Dollywood's 'Smoky Mountains Christmas' begins Saturday, 53.1)\n",
      "\n",
      "4\n",
      "-------------------\n",
      "\n",
      "Summarizing 1 documents under scheme sentances\n",
      "Summary time: 0.002118349075317383\n",
      "Summary generated in 504019 ns\n",
      "\n",
      " -----summary------ \n",
      "\n",
      "The Denver Broncos are slowly crawling back into contention in the 2019 season and though they are still just 2-4, they have turned things around in a big way over the last two weeks.                                                                                                                     (16 Cases Where a Credit Card Beats Cash, 60.07)\n",
      "The first four games saw the Broncos play average at best on the defensive side of the ball, allowing an average of 23.2 points per game, leading to an 0-4 record.                                                                                                                                         (16 Cases Where a Credit Card Beats Cash, 52.2)\n",
      "It's no surprise that in the team's two victories since that dreadful start, it is allowing just 6.5 points per game.                                                                                                                                                                                       (16 Cases Where a Credit Card Beats Cash, 35.97)\n",
      "Derek Wolfe and Shelby Harris give maximum effort and Mike Purcell has been a major surprise and a great find.                                                                                                                                                                                              (16 Cases Where a Credit Card Beats Cash, 35.76)\n",
      "He has been a beast against the run and had two tackles for losses against Tennessee.                                                                                                                                                                                                                       (16 Cases Where a Credit Card Beats Cash, 26.57)\n",
      "He had 1.5 sacks against the Titans and led the team with nine tackles in the game.                                                                                                                                                                                                                         (16 Cases Where a Credit Card Beats Cash, 24.21)\n",
      "In the secondary, Chris Harris has been doing his usual thing and the duo of Justin Simmons and Kareem Jackson at safety is becoming quite formidable.                                                                                                                                                      (16 Cases Where a Credit Card Beats Cash, 48.35)\n",
      "It took a bit, and fans generally don't have the patience to wait for things to materialize, but maybe Fangio just needed to have a few games of film to be able to implement the product and the vision he had when he took the job on the field.                                                          (16 Cases Where a Credit Card Beats Cash, 93.87)\n",
      "What we're seeing now is that vision and though it's still materializing, Fangio seems to have what he wants and it truly is a beautiful thing.                                                                                                                                                             (16 Cases Where a Credit Card Beats Cash, 47.73)\n",
      "The fair catch kick we just saw in Panthers-Bucs, explained 3 Raiders who need to improve in Week 7 vs. Packers What's missing from the Kyle Allen vs. Cam Newton quarterback debate Steelers LB Devin Bush disappointed he got 'shrugged off' for first time in career Packers vs. Lions: 5 things to watch and a prediction(16 Cases Where a Credit Card Beats Cash, 104.68)\n",
      "\n",
      "5\n",
      "-------------------\n",
      "\n",
      "Summarizing 1 documents under scheme sentances\n",
      "Summary time: 0.006466388702392578\n",
      "Summary generated in 259351 ns\n",
      "\n",
      " -----summary------ \n",
      "\n",
      "As a lawyer who has prosecuted trials over several decades, I can tell you that he who frames the argument has the greater chance for victory.                                                                                                                                                              (Young trick-or-treater refills stranger's empty candy bowl with his own, 80.86)\n",
      "DAVID BOSSIE: HILLARY CLINTON, HERE'S WHAT YOU NEED TO DO NOW (HINT: TULSI GABBARD HAS A SOLUTION) Of course, this impeachment trial, especially in the internet/mass media age, will not just a legal matter.                                                                                              (Young trick-or-treater refills stranger's empty candy bowl with his own, 97.42)\n",
      "As I wrote earlier on this page, the Democrats actions are not about Trump per se, it is about power and their desire to transform America.                                                                                                                                                                 (Young trick-or-treater refills stranger's empty candy bowl with his own, 75.98)\n",
      "There is plenty of historical video of Nancy Pelosi, Jerry Nadler and others making the same argument when Bill Clinton was impeached.                                                                                                                                                                      (Young trick-or-treater refills stranger's empty candy bowl with his own, 63.06)\n",
      "Trump’s team pointed out several of their comments in the eight-page letter rejecting the so-called impeachment inquiry.                                                                                                                                                                                    (Young trick-or-treater refills stranger's empty candy bowl with his own, 48.41)\n",
      "For instance, American jobs are being held back because the Democrats are more interested in partisanship than passing the U.S./Canada/Mexico trade deal.                                                                                                                                                   (Young trick-or-treater refills stranger's empty candy bowl with his own, 66.13)\n",
      "They repeatedly asked Ukraine to interfere in the 2016 election against Trump, tried to kill the Ukrainian investigation related to Joe Biden and refused to take evidence from the Ukraine of Democrat wrongdoing.                                                                                         (Young trick-or-treater refills stranger's empty candy bowl with his own, 95.47)\n",
      "Right now, because there has been no formal vote, only Democrats have the power of the subpoena.                                                                                                                                                                                                            (Young trick-or-treater refills stranger's empty candy bowl with his own, 46.94)\n",
      "One column has the many Obama era abuses as well as Bill Clinton asking Tony Blair for help and the other, much shorter column, will be Trump’s request for help under the U.S. Ukraine Mutual Cooperation treaty.                                                                                          (Young trick-or-treater refills stranger's empty candy bowl with his own, 107.36)\n",
      "As for trial procedure, the majority party in the Senate, i.e.                                                                                                                                                                                                                                              (Young trick-or-treater refills stranger's empty candy bowl with his own, 26.59)\n",
      "Given that, by far, the Democrats committed the egregious acts, Republicans must allow for live witnesses to get their points across.                                                                                                                                                                       (Young trick-or-treater refills stranger's empty candy bowl with his own, 58.23)\n",
      "Either Republicans rise to the occasion and draw the line or the country will be forever transformed from a relatively free society with a limited government to a country ruled by a central government.                                                                                                   (Young trick-or-treater refills stranger's empty candy bowl with his own, 101.98)\n",
      "\n",
      "6\n",
      "-------------------\n",
      "\n",
      "Summarizing 1 documents under scheme sentances\n",
      "Summary time: 0.0012917518615722656\n",
      "Summary generated in 77865 ns\n",
      "\n",
      " -----summary------ \n",
      "\n",
      "Thomas Cole Walker will be laid to rest in his hometown of Conneaut, OH, this weekend.                                                                                                                                                                                                                      (The most affordable apartments for rent in the Heights, Houston, 49.48)\n",
      "Tuesday night, the Ohio Patriot Guard Riders will escort him from Cleveland Hopkins to the Marcy funeral home before his service Saturday.                                                                                                                                                                  (The most affordable apartments for rent in the Heights, Houston, 69.25)\n",
      "Veterans and residents will line the route to the funeral home to pay their respects.                                                                                                                                                                                                                       (The most affordable apartments for rent in the Heights, Houston, 43.85)\n",
      "Sandra Ryan said, “I think it’s important for us all to show his family we care as a community.” The American Legion placed extra flags around town and lining the route in his honor.                                                                                                                      (The most affordable apartments for rent in the Heights, Houston, 111.1)\n",
      "Udell said, “ you really thank him for his service no matter how short or as long it is.                                                                                                                                                                                                                    (The most affordable apartments for rent in the Heights, Houston, 56.84)\n",
      "Funeral processions begin Saturday, followed by a Celebration of Life at the American Legion Hall.                                                                                                                                                                                                          (The most affordable apartments for rent in the Heights, Houston, 46.16)\n",
      "\n",
      "7\n",
      "-------------------\n",
      "\n",
      "Summarizing 1 documents under scheme sentances\n"
     ]
    },
    {
     "ename": "ValueError",
     "evalue": "k must be between 1 and min(A.shape), k=1",
     "output_type": "error",
     "traceback": [
      "\u001b[0;31m---------------------------------------------------------------------------\u001b[0m",
      "\u001b[0;31mValueError\u001b[0m                                Traceback (most recent call last)",
      "\u001b[0;32m/tmp/ipykernel_13174/487778352.py\u001b[0m in \u001b[0;36m<module>\u001b[0;34m\u001b[0m\n\u001b[1;32m      2\u001b[0m     \u001b[0mprint\u001b[0m\u001b[0;34m(\u001b[0m\u001b[0mele\u001b[0m\u001b[0;34m)\u001b[0m\u001b[0;34m\u001b[0m\u001b[0;34m\u001b[0m\u001b[0m\n\u001b[1;32m      3\u001b[0m     \u001b[0mdocuments\u001b[0m\u001b[0;34m,\u001b[0m \u001b[0mdoc_incidences\u001b[0m\u001b[0;34m,\u001b[0m \u001b[0mload_time\u001b[0m \u001b[0;34m=\u001b[0m \u001b[0mmsu\u001b[0m\u001b[0;34m.\u001b[0m\u001b[0mload_corpus\u001b[0m\u001b[0;34m(\u001b[0m\u001b[0mdff\u001b[0m\u001b[0;34m.\u001b[0m\u001b[0mloc\u001b[0m\u001b[0;34m[\u001b[0m\u001b[0mele\u001b[0m\u001b[0;34m:\u001b[0m\u001b[0mele\u001b[0m\u001b[0;34m]\u001b[0m\u001b[0;34m.\u001b[0m\u001b[0mreset_index\u001b[0m\u001b[0;34m(\u001b[0m\u001b[0;34m)\u001b[0m\u001b[0;34m,\u001b[0m \u001b[0;34m'Text'\u001b[0m\u001b[0;34m)\u001b[0m\u001b[0;34m\u001b[0m\u001b[0;34m\u001b[0m\u001b[0m\n\u001b[0;32m----> 4\u001b[0;31m     \u001b[0mbuild_time\u001b[0m\u001b[0;34m,\u001b[0m \u001b[0mextract_time\u001b[0m\u001b[0;34m,\u001b[0m \u001b[0msentences\u001b[0m\u001b[0;34m,\u001b[0m \u001b[0mdoc_titles_new\u001b[0m\u001b[0;34m,\u001b[0m \u001b[0mextractor\u001b[0m\u001b[0;34m,\u001b[0m \u001b[0msentence_weights\u001b[0m \u001b[0;34m=\u001b[0m \u001b[0mmsu\u001b[0m\u001b[0;34m.\u001b[0m\u001b[0msummarize_collect\u001b[0m\u001b[0;34m(\u001b[0m\u001b[0mdff\u001b[0m\u001b[0;34m.\u001b[0m\u001b[0mloc\u001b[0m\u001b[0;34m[\u001b[0m\u001b[0mele\u001b[0m\u001b[0;34m:\u001b[0m\u001b[0mele\u001b[0m\u001b[0;34m]\u001b[0m\u001b[0;34m.\u001b[0m\u001b[0mreset_index\u001b[0m\u001b[0;34m(\u001b[0m\u001b[0;34m)\u001b[0m\u001b[0;34m,\u001b[0m \u001b[0mdocuments\u001b[0m\u001b[0;34m,\u001b[0m \u001b[0mdoc_incidences\u001b[0m\u001b[0;34m,\u001b[0m \u001b[0;34m'sentances'\u001b[0m\u001b[0;34m,\u001b[0m \u001b[0;36m300\u001b[0m\u001b[0;34m,\u001b[0m \u001b[0;32mFalse\u001b[0m\u001b[0;34m)\u001b[0m\u001b[0;34m\u001b[0m\u001b[0;34m\u001b[0m\u001b[0m\n\u001b[0m\u001b[1;32m      5\u001b[0m     \u001b[0msummary_text\u001b[0m \u001b[0;34m=\u001b[0m \u001b[0;34m[\u001b[0m\u001b[0msentences\u001b[0m\u001b[0;34m[\u001b[0m\u001b[0mx\u001b[0m\u001b[0;34m]\u001b[0m\u001b[0;34m.\u001b[0m\u001b[0mtext\u001b[0m \u001b[0;32mfor\u001b[0m \u001b[0mx\u001b[0m \u001b[0;32min\u001b[0m \u001b[0mrange\u001b[0m\u001b[0;34m(\u001b[0m\u001b[0;36m0\u001b[0m\u001b[0;34m,\u001b[0m \u001b[0mlen\u001b[0m\u001b[0;34m(\u001b[0m\u001b[0msentences\u001b[0m\u001b[0;34m)\u001b[0m\u001b[0;34m)\u001b[0m\u001b[0;34m]\u001b[0m\u001b[0;34m\u001b[0m\u001b[0;34m\u001b[0m\u001b[0m\n\u001b[1;32m      6\u001b[0m     \u001b[0mdff\u001b[0m\u001b[0;34m[\u001b[0m\u001b[0;34m'summary'\u001b[0m\u001b[0;34m]\u001b[0m\u001b[0;34m[\u001b[0m\u001b[0mele\u001b[0m\u001b[0;34m]\u001b[0m \u001b[0;34m=\u001b[0m \u001b[0msummary_text\u001b[0m\u001b[0;34m\u001b[0m\u001b[0;34m\u001b[0m\u001b[0m\n",
      "\u001b[0;32m~/Documents/ato/SCADS-Demo/multisum.py\u001b[0m in \u001b[0;36msummarize_collect\u001b[0;34m(df, documents, doc_incidences, scheme, length, experiment)\u001b[0m\n\u001b[1;32m    199\u001b[0m         \u001b[0;31m# extracting term weights through a particular scheme\u001b[0m\u001b[0;34m\u001b[0m\u001b[0;34m\u001b[0m\u001b[0;34m\u001b[0m\u001b[0m\n\u001b[1;32m    200\u001b[0m         \u001b[0mstart_time\u001b[0m \u001b[0;34m=\u001b[0m \u001b[0mtime\u001b[0m\u001b[0;34m.\u001b[0m\u001b[0mtime\u001b[0m\u001b[0;34m(\u001b[0m\u001b[0;34m)\u001b[0m\u001b[0;34m\u001b[0m\u001b[0;34m\u001b[0m\u001b[0m\n\u001b[0;32m--> 201\u001b[0;31m         \u001b[0mextractor\u001b[0m \u001b[0;34m=\u001b[0m \u001b[0mTermFrequencySummaryExtractor\u001b[0m\u001b[0;34m.\u001b[0m\u001b[0mfrom_documents\u001b[0m\u001b[0;34m(\u001b[0m\u001b[0mdocuments\u001b[0m\u001b[0;34m,\u001b[0m \u001b[0munits\u001b[0m\u001b[0;34m=\u001b[0m\u001b[0mSummaryUnits\u001b[0m\u001b[0;34m.\u001b[0m\u001b[0mWORDS\u001b[0m\u001b[0;34m,\u001b[0m \u001b[0mscheme\u001b[0m\u001b[0;34m=\u001b[0m\u001b[0mchosen_scheme\u001b[0m\u001b[0;34m)\u001b[0m\u001b[0;34m\u001b[0m\u001b[0;34m\u001b[0m\u001b[0m\n\u001b[0m\u001b[1;32m    202\u001b[0m \u001b[0;34m\u001b[0m\u001b[0m\n\u001b[1;32m    203\u001b[0m     \u001b[0mextractor\u001b[0m\u001b[0;34m.\u001b[0m\u001b[0mreduce_incidence_structure\u001b[0m\u001b[0;34m(\u001b[0m\u001b[0mmax_sentences\u001b[0m \u001b[0;34m=\u001b[0m \u001b[0mround\u001b[0m\u001b[0;34m(\u001b[0m\u001b[0mextractor\u001b[0m\u001b[0;34m.\u001b[0m\u001b[0m_m\u001b[0m\u001b[0;34m.\u001b[0m\u001b[0mnum_sentences\u001b[0m\u001b[0;34m(\u001b[0m\u001b[0;34m)\u001b[0m \u001b[0;34m*\u001b[0m \u001b[0;36m.9\u001b[0m\u001b[0;34m)\u001b[0m\u001b[0;34m,\u001b[0m \u001b[0mmin_length\u001b[0m \u001b[0;34m=\u001b[0m \u001b[0;36m.3\u001b[0m\u001b[0;34m)\u001b[0m \u001b[0;31m# removeing too short sentances and duplicate statements\u001b[0m\u001b[0;34m\u001b[0m\u001b[0;34m\u001b[0m\u001b[0m\n",
      "\u001b[0;32m~/Documents/ato/Occams/occams/summarize/term_weight_schemes.py\u001b[0m in \u001b[0;36mfrom_documents\u001b[0;34m(cls, documents, **kwargs)\u001b[0m\n\u001b[1;32m     61\u001b[0m \u001b[0;34m\u001b[0m\u001b[0m\n\u001b[1;32m     62\u001b[0m         \u001b[0mm\u001b[0m \u001b[0;34m=\u001b[0m \u001b[0mIncidenceStructure\u001b[0m\u001b[0;34m(\u001b[0m\u001b[0mdocuments\u001b[0m\u001b[0;34m)\u001b[0m\u001b[0;34m\u001b[0m\u001b[0;34m\u001b[0m\u001b[0m\n\u001b[0;32m---> 63\u001b[0;31m         \u001b[0;32mreturn\u001b[0m \u001b[0mcls\u001b[0m\u001b[0;34m(\u001b[0m\u001b[0mm\u001b[0m\u001b[0;34m,\u001b[0m \u001b[0;34m**\u001b[0m\u001b[0mkwargs\u001b[0m\u001b[0;34m)\u001b[0m\u001b[0;34m\u001b[0m\u001b[0;34m\u001b[0m\u001b[0m\n\u001b[0m\u001b[1;32m     64\u001b[0m \u001b[0;34m\u001b[0m\u001b[0m\n\u001b[1;32m     65\u001b[0m \u001b[0;34m\u001b[0m\u001b[0m\n",
      "\u001b[0;32m~/Documents/ato/Occams/occams/summarize/term_weight_schemes.py\u001b[0m in \u001b[0;36m__init__\u001b[0;34m(self, m, units, sep, scheme)\u001b[0m\n\u001b[1;32m    140\u001b[0m             \u001b[0mterm_weights\u001b[0m \u001b[0;34m=\u001b[0m \u001b[0mnumpy\u001b[0m\u001b[0;34m.\u001b[0m\u001b[0masarray\u001b[0m\u001b[0;34m(\u001b[0m\u001b[0mnumpy\u001b[0m\u001b[0;34m.\u001b[0m\u001b[0mlog\u001b[0m\u001b[0;34m(\u001b[0m\u001b[0mcore_term_counts\u001b[0m\u001b[0;34m+\u001b[0m\u001b[0mterm_counts\u001b[0m\u001b[0;34m+\u001b[0m\u001b[0;36m1\u001b[0m\u001b[0;34m)\u001b[0m\u001b[0;34m)\u001b[0m\u001b[0;34m\u001b[0m\u001b[0;34m\u001b[0m\u001b[0m\n\u001b[1;32m    141\u001b[0m         \u001b[0;32melif\u001b[0m \u001b[0mscheme\u001b[0m \u001b[0;32mis\u001b[0m \u001b[0mTermFrequencyScheme\u001b[0m\u001b[0;34m.\u001b[0m\u001b[0mCORE_SENTENCES\u001b[0m\u001b[0;34m:\u001b[0m\u001b[0;34m\u001b[0m\u001b[0;34m\u001b[0m\u001b[0m\n\u001b[0;32m--> 142\u001b[0;31m             \u001b[0mu\u001b[0m\u001b[0;34m,\u001b[0m\u001b[0ms\u001b[0m\u001b[0;34m,\u001b[0m\u001b[0mv\u001b[0m\u001b[0;34m=\u001b[0m\u001b[0msvds\u001b[0m\u001b[0;34m(\u001b[0m\u001b[0mm\u001b[0m\u001b[0;34m.\u001b[0m\u001b[0mterm_sent_matrix\u001b[0m\u001b[0;34m(\u001b[0m\u001b[0;34m)\u001b[0m\u001b[0;34m,\u001b[0m\u001b[0mk\u001b[0m\u001b[0;34m=\u001b[0m\u001b[0;36m1\u001b[0m\u001b[0;34m)\u001b[0m\u001b[0;34m\u001b[0m\u001b[0;34m\u001b[0m\u001b[0m\n\u001b[0m\u001b[1;32m    143\u001b[0m             \u001b[0;31m# Uncomment this to test if the number of terms is as good; it tends not to be!\u001b[0m\u001b[0;34m\u001b[0m\u001b[0;34m\u001b[0m\u001b[0;34m\u001b[0m\u001b[0m\n\u001b[1;32m    144\u001b[0m             \u001b[0;31m#v = np.array(m.term_sent_matrix().sum(axis=0))\u001b[0m\u001b[0;34m\u001b[0m\u001b[0;34m\u001b[0m\u001b[0;34m\u001b[0m\u001b[0m\n",
      "\u001b[0;32m~/Documents/ato/occams3.7/lib/python3.7/site-packages/scipy/sparse/linalg/eigen/arpack/arpack.py\u001b[0m in \u001b[0;36msvds\u001b[0;34m(A, k, ncv, tol, which, v0, maxiter, return_singular_vectors, solver)\u001b[0m\n\u001b[1;32m   1818\u001b[0m \u001b[0;34m\u001b[0m\u001b[0m\n\u001b[1;32m   1819\u001b[0m     \u001b[0;32mif\u001b[0m \u001b[0mk\u001b[0m \u001b[0;34m<=\u001b[0m \u001b[0;36m0\u001b[0m \u001b[0;32mor\u001b[0m \u001b[0mk\u001b[0m \u001b[0;34m>=\u001b[0m \u001b[0mmin\u001b[0m\u001b[0;34m(\u001b[0m\u001b[0mn\u001b[0m\u001b[0;34m,\u001b[0m \u001b[0mm\u001b[0m\u001b[0;34m)\u001b[0m\u001b[0;34m:\u001b[0m\u001b[0;34m\u001b[0m\u001b[0;34m\u001b[0m\u001b[0m\n\u001b[0;32m-> 1820\u001b[0;31m         \u001b[0;32mraise\u001b[0m \u001b[0mValueError\u001b[0m\u001b[0;34m(\u001b[0m\u001b[0;34m\"k must be between 1 and min(A.shape), k=%d\"\u001b[0m \u001b[0;34m%\u001b[0m \u001b[0mk\u001b[0m\u001b[0;34m)\u001b[0m\u001b[0;34m\u001b[0m\u001b[0;34m\u001b[0m\u001b[0m\n\u001b[0m\u001b[1;32m   1821\u001b[0m \u001b[0;34m\u001b[0m\u001b[0m\n\u001b[1;32m   1822\u001b[0m     \u001b[0;32mif\u001b[0m \u001b[0misinstance\u001b[0m\u001b[0;34m(\u001b[0m\u001b[0mA\u001b[0m\u001b[0;34m,\u001b[0m \u001b[0mLinearOperator\u001b[0m\u001b[0;34m)\u001b[0m\u001b[0;34m:\u001b[0m\u001b[0;34m\u001b[0m\u001b[0;34m\u001b[0m\u001b[0m\n",
      "\u001b[0;31mValueError\u001b[0m: k must be between 1 and min(A.shape), k=1"
     ]
    }
   ],
   "source": [
    "for ele in range(0,len(dff)): \n",
    "    print(ele)\n",
    "    documents, doc_incidences, load_time = msu.load_corpus(dff.loc[ele:ele].reset_index(), 'Text')\n",
    "    build_time, extract_time, sentences, doc_titles_new, extractor, sentence_weights = msu.summarize_collect(dff.loc[ele:ele].reset_index(), documents, doc_incidences, 'sentances', 300, False)\n",
    "    summary_text = [sentences[x].text for x in range(0, len(sentences))]\n",
    "    dff['summary'][ele] = summary_text\n",
    "    dff['weights'][ele] = [round(x, 2) for x in sentence_weights]"
   ]
  },
  {
   "cell_type": "code",
   "execution_count": 8,
   "metadata": {},
   "outputs": [
    {
     "data": {
      "text/plain": [
       "['(WAVE) - The Kentucky Wildcats are ranked No. 2 in the AP’s preseason men’s basketball poll just out Monday. >> RANKINGS: Preseason Top 25 Michigan State received 60 of a possible 65 first-place votes; UK received two and Kansas, ranked third, got the other three. Coach Chris Mack’s second season as Louisville’s coach will begin with a Cards team ranked No. 5 in the poll, just behind Duke. Florida, Maryland, Gonzaga, North Carolina and Villanova round out the top 10. It’s the 10th time in 11 seasons the Wildcats will begin the season ranked among the nation’s top five. Coach John Calipari’s squad has been ranked in the top two to open play seven times, including in six of the last seven seasons. Kentucky will play seven teams currently ranked in the preseason poll, including its season opener in New York City against Michigan State on Nov. 5. (Story continues below the tweet) 📝 1️⃣vs.2️⃣ to start the season in NYC🗽👀 7️⃣ opponents enter the season ranked in the AP Top 25, including 4️⃣ nonconference opponents in Michigan State (1), Louisville (5), Texas Tech (13) and Ohio State (18).https://t.co/zMWVXSmY5P — Kentucky Basketball (@KentuckyMBB) October 21, 2019 Louisville’s No. 5 ranking is the highest the Cardinals have been ranked in the preseason since 2013, when UofL opened the year ranked third in the Associated Press and USA Today polls. The Cards have been ranked in the AP poll on 632 occasions, sixth most all-time. Louisville opens its season at Miami on Nov. 5, three days after the Cards football team also plays in Miami against the ACC-rival Hurricanes. Preseason AP Ranking: 🖐 pic.twitter.com/wntJSAEv3S — Louisville Basketball (@LouisvilleMBB) October 21, 2019 Copyright 2019 WAVE 3 News. All rights reserved.']"
      ]
     },
     "execution_count": 8,
     "metadata": {},
     "output_type": "execute_result"
    }
   ],
   "source": [
    "list(dff.loc[8:8]['Text'].replace(r\"[^a-zA-Z0-9,()-. ]\", \" \"))"
   ]
  },
  {
   "cell_type": "code",
   "execution_count": 13,
   "metadata": {},
   "outputs": [
    {
     "name": "stdout",
     "output_type": "stream",
     "text": [
      "8    (WAVE) - The Kentucky Wildcats are ranked No. ...\n",
      "Name: Text, dtype: object\n"
     ]
    },
    {
     "ename": "TypeError",
     "evalue": "expected string or bytes-like object",
     "output_type": "error",
     "traceback": [
      "\u001b[0;31m---------------------------------------------------------------------------\u001b[0m",
      "\u001b[0;31mTypeError\u001b[0m                                 Traceback (most recent call last)",
      "\u001b[0;32m/tmp/ipykernel_13174/4142811542.py\u001b[0m in \u001b[0;36m<module>\u001b[0;34m\u001b[0m\n\u001b[1;32m     10\u001b[0m         \u001b[0;34mu\"\\U0001F1E0-\\U0001F1FF\"\u001b[0m  \u001b[0;31m# flags (iOS)\u001b[0m\u001b[0;34m\u001b[0m\u001b[0;34m\u001b[0m\u001b[0m\n\u001b[1;32m     11\u001b[0m                            \"]+\", flags=re.UNICODE)\n\u001b[0;32m---> 12\u001b[0;31m \u001b[0mprint\u001b[0m\u001b[0;34m(\u001b[0m\u001b[0memoji_pattern\u001b[0m\u001b[0;34m.\u001b[0m\u001b[0msub\u001b[0m\u001b[0;34m(\u001b[0m\u001b[0;34mr''\u001b[0m\u001b[0;34m,\u001b[0m \u001b[0mtext\u001b[0m\u001b[0;34m)\u001b[0m\u001b[0;34m)\u001b[0m \u001b[0;31m# no emoji\u001b[0m\u001b[0;34m\u001b[0m\u001b[0;34m\u001b[0m\u001b[0m\n\u001b[0m",
      "\u001b[0;31mTypeError\u001b[0m: expected string or bytes-like object"
     ]
    }
   ],
   "source": [
    "import re\n",
    "\n",
    "text = dff.loc[8:8]['Text']\n",
    "print(text) # with emoji\n",
    "\n",
    "emoji_pattern = re.compile(\"[\"\n",
    "        u\"\\U0001F600-\\U0001F64F\"  # emoticons\n",
    "        u\"\\U0001F300-\\U0001F5FF\"  # symbols & pictographs\n",
    "        u\"\\U0001F680-\\U0001F6FF\"  # transport & map symbols\n",
    "        u\"\\U0001F1E0-\\U0001F1FF\"  # flags (iOS)\n",
    "                           \"]+\", flags=re.UNICODE)\n",
    "print(emoji_pattern.sub(r'', text)) # no emoji"
   ]
  },
  {
   "cell_type": "code",
   "execution_count": 11,
   "metadata": {},
   "outputs": [
    {
     "data": {
      "text/plain": [
       "['(WAVE) - The Kentucky Wildcats are ranked No. 2 in the AP’s preseason men’s basketball poll just out Monday. >> RANKINGS: Preseason Top 25 Michigan State received 60 of a possible 65 first-place votes; UK received two and Kansas, ranked third, got the other three. Coach Chris Mack’s second season as Louisville’s coach will begin with a Cards team ranked No. 5 in the poll, just behind Duke. Florida, Maryland, Gonzaga, North Carolina and Villanova round out the top 10. It’s the 10th time in 11 seasons the Wildcats will begin the season ranked among the nation’s top five. Coach John Calipari’s squad has been ranked in the top two to open play seven times, including in six of the last seven seasons. Kentucky will play seven teams currently ranked in