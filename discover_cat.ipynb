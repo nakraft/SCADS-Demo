{
 "cells": [
  {
   "cell_type": "markdown",
   "metadata": {},
   "source": [
    "## Observations\n",
    "\n",
    "- Abstracts provide no useful summarization... everything is more on the 'hook' side that gets pulled out \n",
    "- See below for entity extraction counts "
   ]
  },
  {
   "cell_type": "code",
   "execution_count": 1,
   "metadata": {},
   "outputs": [],
   "source": [
    "import pandas as pd\n",
    "import re"
   ]
  },
  {
   "cell_type": "code",
   "execution_count": 2,
   "metadata": {},
   "outputs": [],
   "source": [
    "MIND_w_topics=pd.read_csv(\"~/efs/home/pcorona_content/MIND_Train_w_Topics.csv\")\n",
    "MIND_w_topics.sort_values(by=['Title', '_score_'], ascending=False, inplace=True)\n",
    "MIND_w_topics.drop_duplicates(subset=['__uniqueid__'], keep='first', inplace=True)\n",
    "MIND_w_topics = MIND_w_topics.reset_index() "
   ]
  },
  {
   "cell_type": "code",
   "execution_count": 3,
   "metadata": {},
   "outputs": [],
   "source": [
    "MIND_w_topics['title_entities_names'] = [re.findall(r\"\\\"Label\\\": \\\"(.*?)\\\",\", str(x)) for x in MIND_w_topics['Title Entities']]\n",
    "MIND_w_topics['title_entities_type'] = [re.findall(r\"\\\"Type\\\": \\\"(.*?)\\\",\", str(x)) for x in MIND_w_topics['Title Entities']]\n",
    "MIND_w_topics['title_entities_wikiid'] = [re.findall(r\"\\\"WikidataId\\\": \\\"(.*?)\\\",\", str(x)) for x in MIND_w_topics['Title Entities']]"
   ]
  },
  {
   "cell_type": "code",
   "execution_count": 4,
   "metadata": {},
   "outputs": [
    {
     "data": {
      "text/html": [
       "<div>\n",
       "<style scoped>\n",
       "    .dataframe tbody tr th:only-of-type {\n",
       "        vertical-align: middle;\n",
       "    }\n",
       "\n",
       "    .dataframe tbody tr th {\n",
       "        vertical-align: top;\n",
       "    }\n",
       "\n",
       "    .dataframe thead th {\n",
       "        text-align: right;\n",
       "    }\n",
       "</style>\n",
       "<table border=\"1\" class=\"dataframe\">\n",
       "  <thead>\n",
       "    <tr style=\"text-align: right;\">\n",
       "      <th></th>\n",
       "      <th>index</th>\n",
       "      <th>__uniqueid__</th>\n",
       "      <th>Text</th>\n",
       "      <th>_category_</th>\n",
       "      <th>keywords</th>\n",
       "      <th>_score_</th>\n",
       "      <th>Category level_1</th>\n",
       "      <th>Category level_2</th>\n",
       "      <th>News ID</th>\n",
       "      <th>Category</th>\n",
       "      <th>SubCategory</th>\n",
       "      <th>Title</th>\n",
       "      <th>Abstract</th>\n",
       "      <th>URL</th>\n",
       "      <th>Title Entities</th>\n",
       "      <th>Abstract Entities</th>\n",
       "      <th>title_entities_names</th>\n",
       "      <th>title_entities_type</th>\n",
       "      <th>title_entities_wikiid</th>\n",
       "    </tr>\n",
       "  </thead>\n",
       "  <tbody>\n",
       "    <tr>\n",
       "      <th>0</th>\n",
       "      <td>88706</td>\n",
       "      <td>162115</td>\n",
       "      <td>The State Medical Examiner's Office confirmed ...</td>\n",
       "      <td>Law Enforcement</td>\n",
       "      <td>Police | Office | Police | police | Police | a...</td>\n",
       "      <td>59</td>\n",
       "      <td>Law Enforcement</td>\n",
       "      <td>NaN</td>\n",
       "      <td>N121883</td>\n",
       "      <td>news</td>\n",
       "      <td>newscrime</td>\n",
       "      <td>﻿Body identified, boyfriend charged with murde...</td>\n",
       "      <td>The State Medical Examiner's Office confirmed ...</td>\n",
       "      <td>https://s3.amazonaws.com/las.scads.public/F890...</td>\n",
       "      <td>[{\"Label\": \"Waterville, Maine\", \"Type\": \"G\", \"...</td>\n",
       "      <td>[{\"Label\": \"Waterville, Maine\", \"Type\": \"G\", \"...</td>\n",
       "      <td>[Waterville, Maine]</td>\n",
       "      <td>[G]</td>\n",
       "      <td>[Q997170]</td>\n",
       "    </tr>\n",
       "    <tr>\n",
       "      <th>1</th>\n",
       "      <td>115886</td>\n",
       "      <td>498810</td>\n",
       "      <td>Devan Makail Bradish died Oct. 27. He was the ...</td>\n",
       "      <td>NaN</td>\n",
       "      <td>NaN</td>\n",
       "      <td>.</td>\n",
       "      <td>NaN</td>\n",
       "      <td>NaN</td>\n",
       "      <td>N110380</td>\n",
       "      <td>lifestyle</td>\n",
       "      <td>lifestylefamily</td>\n",
       "      <td>​Devan Makail Bradish: Obituary</td>\n",
       "      <td>The Nov. 3 funeral will memorialize a teen who...</td>\n",
       "      <td>https://s3.amazonaws.com/las.scads.public/F890...</td>\n",
       "      <td>[]</td>\n",
       "      <td>[]</td>\n",
       "      <td>[]</td>\n",
       "      <td>[]</td>\n",
       "      <td>[]</td>\n",
       "    </tr>\n",
       "    <tr>\n",
       "      <th>2</th>\n",
       "      <td>35888</td>\n",
       "      <td>140606</td>\n",
       "      <td>The Astros are the best team in baseball. Most...</td>\n",
       "      <td>Baseball</td>\n",
       "      <td>Astros | team | team | Yankees | Yankees | tea...</td>\n",
       "      <td>26</td>\n",
       "      <td>Baseball</td>\n",
       "      <td>NaN</td>\n",
       "      <td>N12568</td>\n",
       "      <td>sports</td>\n",
       "      <td>baseball_mlb</td>\n",
       "      <td>​Are the Astros stealing signs to gain an edge...</td>\n",
       "      <td>If your code is easy to crack, the problem is ...</td>\n",
       "      <td>https://s3.amazonaws.com/las.scads.public/F890...</td>\n",
       "      <td>[{\"Label\": \"Houston Astros\", \"Type\": \"O\", \"Wik...</td>\n",
       "      <td>[]</td>\n",
       "      <td>[Houston Astros]</td>\n",
       "      <td>[O]</td>\n",
       "      <td>[Q848117]</td>\n",
       "    </tr>\n",
       "    <tr>\n",
       "      <th>3</th>\n",
       "      <td>138406</td>\n",
       "      <td>318115</td>\n",
       "      <td>I’ve always been a pretty healthy person. I ba...</td>\n",
       "      <td>Family</td>\n",
       "      <td>feel | feel | feel | something | doctor | alwa...</td>\n",
       "      <td>54</td>\n",
       "      <td>Family</td>\n",
       "      <td>NaN</td>\n",
       "      <td>N68164</td>\n",
       "      <td>health</td>\n",
       "      <td>ads-lung-health</td>\n",
       "      <td>​'My Annoying Cough Turned Out To Be Lung Cancer'</td>\n",
       "      <td>As soon as I was coming out of anesthesia, he ...</td>\n",
       "      <td>https://s3.amazonaws.com/las.scads.public/F890...</td>\n",
       "      <td>[]</td>\n",
       "      <td>[]</td>\n",
       "      <td>[]</td>\n",
       "      <td>[]</td>\n",
       "      <td>[]</td>\n",
       "    </tr>\n",
       "    <tr>\n",
       "      <th>4</th>\n",
       "      <td>25490</td>\n",
       "      <td>34104</td>\n",
       "      <td>\"Condition Confessions\" is a new series by Wom...</td>\n",
       "      <td>Family</td>\n",
       "      <td>love | always | friends | think | felt | love ...</td>\n",
       "      <td>71</td>\n",
       "      <td>Family</td>\n",
       "      <td>NaN</td>\n",
       "      <td>N46735</td>\n",
       "      <td>health</td>\n",
       "      <td>voices</td>\n",
       "      <td>​'How I Told My Siblings I Had Lung Cancer'</td>\n",
       "      <td>Her chronic back pain turned out to be somethi...</td>\n",
       "      <td>https://s3.amazonaws.com/las.scads.public/F890...</td>\n",
       "      <td>[{\"Label\": \"Lung cancer\", \"Type\": \"C\", \"Wikida...</td>\n",
       "      <td>[]</td>\n",
       "      <td>[Lung cancer]</td>\n",
       "      <td>[C]</td>\n",
       "      <td>[Q47912]</td>\n",
       "    </tr>\n",
       "  </tbody>\n",
       "</table>\n",
       "</div>"
      ],
      "text/plain": [
       "    index  __uniqueid__                                               Text  \\\n",
       "0   88706        162115  The State Medical Examiner's Office confirmed ...   \n",
       "1  115886        498810  Devan Makail Bradish died Oct. 27. He was the ...   \n",
       "2   35888        140606  The Astros are the best team in baseball. Most...   \n",
       "3  138406        318115  I’ve always been a pretty healthy person. I ba...   \n",
       "4   25490         34104  \"Condition Confessions\" is a new series by Wom...   \n",
       "\n",
       "        _category_                                           keywords  \\\n",
       "0  Law Enforcement  Police | Office | Police | police | Police | a...   \n",
       "1              NaN                                                NaN   \n",
       "2         Baseball  Astros | team | team | Yankees | Yankees | tea...   \n",
       "3           Family  feel | feel | feel | something | doctor | alwa...   \n",
       "4           Family  love | always | friends | think | felt | love ...   \n",
       "\n",
       "        _score_ Category level_1 Category level_2  News ID   Category  \\\n",
       "0            59  Law Enforcement              NaN  N121883       news   \n",
       "1             .              NaN              NaN  N110380  lifestyle   \n",
       "2            26         Baseball              NaN   N12568     sports   \n",
       "3            54           Family              NaN   N68164     health   \n",
       "4            71           Family              NaN   N46735     health   \n",
       "\n",
       "       SubCategory                                              Title  \\\n",
       "0        newscrime  ﻿Body identified, boyfriend charged with murde...   \n",
       "1  lifestylefamily                    ​Devan Makail Bradish: Obituary   \n",
       "2     baseball_mlb  ​Are the Astros stealing signs to gain an edge...   \n",
       "3  ads-lung-health  ​'My Annoying Cough Turned Out To Be Lung Cancer'   \n",
       "4           voices        ​'How I Told My Siblings I Had Lung Cancer'   \n",
       "\n",
       "                                            Abstract  \\\n",
       "0  The State Medical Examiner's Office confirmed ...   \n",
       "1  The Nov. 3 funeral will memorialize a teen who...   \n",
       "2  If your code is easy to crack, the problem is ...   \n",
       "3  As soon as I was coming out of anesthesia, he ...   \n",
       "4  Her chronic back pain turned out to be somethi...   \n",
       "\n",
       "                                                 URL  \\\n",
       "0  https://s3.amazonaws.com/las.scads.public/F890...   \n",
       "1  https://s3.amazonaws.com/las.scads.public/F890...   \n",
       "2  https://s3.amazonaws.com/las.scads.public/F890...   \n",
       "3  https://s3.amazonaws.com/las.scads.public/F890...   \n",
       "4  https://s3.amazonaws.com/las.scads.public/F890...   \n",
       "\n",
       "                                      Title Entities  \\\n",
       "0  [{\"Label\": \"Waterville, Maine\", \"Type\": \"G\", \"...   \n",
       "1                                                 []   \n",
       "2  [{\"Label\": \"Houston Astros\", \"Type\": \"O\", \"Wik...   \n",
       "3                                                 []   \n",
       "4  [{\"Label\": \"Lung cancer\", \"Type\": \"C\", \"Wikida...   \n",
       "\n",
       "                                   Abstract Entities title_entities_names  \\\n",
       "0  [{\"Label\": \"Waterville, Maine\", \"Type\": \"G\", \"...  [Waterville, Maine]   \n",
       "1                                                 []                   []   \n",
       "2                                                 []     [Houston Astros]   \n",
       "3                                                 []                   []   \n",
       "4                                                 []        [Lung cancer]   \n",
       "\n",
       "  title_entities_type title_entities_wikiid  \n",
       "0                 [G]             [Q997170]  \n",
       "1                  []                    []  \n",
       "2                 [O]             [Q848117]  \n",
       "3                  []                    []  \n",
       "4                 [C]              [Q47912]  "
      ]
     },
     "execution_count": 4,
     "metadata": {},
     "output_type": "execute_result"
    }
   ],
   "source": [
    "MIND_w_topics.head()"
   ]
  },
  {
   "cell_type": "code",
   "execution_count": 86,
   "metadata": {},
   "outputs": [],
   "source": [
    "import plotly.express as px\n",
    "\n",
    "# QUANTITY of documents contain the SAME full set of entities\n",
    "h = MIND_w_topics.groupby([str(x) for x in MIND_w_topics['title_entities_names']])['Text'].count().value_counts().reset_index().rename(columns={'index':'Frequency of occurance', 'Text':'overlap'})\n",
    "anyone = pd.DataFrame(MIND_w_topics['title_entities_names'].tolist()).stack().value_counts().reset_index().rename(columns={0:'Frequency of occurance', 'index':'overlap'})\n",
    "anyone = anyone.groupby('Frequency of occurance').count().reset_index()\n",
    "h['type'] = 'Total Set Entity Overlap'\n",
    "anyone['type'] = 'Partial Set Entity Overlap'\n",
    "\n",
    "d = anyone.append(h)"
   ]
  },
  {
   "cell_type": "code",
   "execution_count": 103,
   "metadata": {},
   "outputs": [
    {
     "name": "stdout",
     "output_type": "stream",
     "text": [
      "91.14  percent of the documents have under 6 overlapping terms.\n"
     ]
    },
    {
     "data": {
      "application/vnd.plotly.v1+json": {
       "config": {
        "plotlyServerURL": "https://plot.ly"
       },
       "data": [
        {
         "alignmentgroup": "True",
         "hovertemplate": "type=Partial Set Entity Overlap<br>Frequency of occurance=%{x}<br>overlap=%{y}<extra></extra>",
         "legendgroup": "Partial Set Entity Overlap",
         "marker": {
          "color": "#636efa",
          "pattern": {
           "shape": ""
          }
         },
         "name": "Partial Set Entity Overlap",
         "offsetgroup": "Partial Set Entity Overlap",
         "orientation": "v",
         "showlegend": true,
         "textposition": "auto",
         "type": "bar",
         "x": [
          1,
          2,
          3,
          4,
          5,
          6,
          7,
          8,
          9,
          10,
          11,
          12,
          13,
          14,
          15,
          16,
          17,
          18,
          19,
          20,
          21,
          22,
          23,
          24,
          25,
          26,
          27,
          28,
          29,
          30,
          31,
          32,
          33,
          34,
          35,
          36,
          37,
          38,
          39,
          40,
          41,
          42,
          43,
          44,
          45,
          46,
          47,
          48,
          49,
          50,
          51,
          52,
          53,
          54,
          55,
          56,
          57,
          58,
          59,
          60,
          61,
          62,
          63,
          64,
          65,
          66,
          67,
          68,
          69,
          70,
          71,
          72,
          73,
          74,
          75,
          76,
          77,
          78,
          79,
          80,
          81,
          82,
          84,
          85,
          87,
          88,
          89,
          90,
          91,
          92,
          93,
          94,
          95,
          96,
          97,
          98,
          99,
          100,
          103,
          104,
          107,
          108,
          109,
          110,
          112,
          113,
          115,
          116,
          118,
          119,
          120,
          121,
          124,
          126,
          127,
          129,
          130,
          131,
          132,
          134,
          135,
          136,
          137,
          138,
          139,
          140,
          144,
          145,
          147,
          149,
          150,
          153,
          159,
          160,
          163,
          164,
          165,
          167,
          168,
          170,
          173,
          174,
          175,
          176,
          178,
          179,
          184,
          185,
          186,
          187,
          188,
          189,
          191,
          197,
          198,
          200,
          201,
          203,
          204,
          205,
          208,
          210,
          217,
          218,
          221,
          222,
          226,
          228,
          230,
          240,
          248,
          257,
          258,
          261,
          267,
          277,
          281,
          282,
          283,
          286,
          309,
          350,
          352,
          359,
          362,
          365,
          374,
          375,
          388,
          394,
          405,
          408,
          425,
          426,
          434,
          438,
          445,
          461,
          469,
          476,
          509,
          545,
          743,
          816,
          875,
          1481
         ],
         "xaxis": "x",
         "y": [
          12430,
          3390,
          1625,
          891,
          591,
          424,
          304,
          209,
          167,
          141,
          122,
          106,
          105,
          72,
          56,
          74,
          49,
          35,
          50,
          49,
          36,
          37,
          25,
          33,
          25,
          30,
          14,
          15,
          17,
          11,
          15,
          9,
          15,
          20,
          10,
          13,
          16,
          9,
          12,
          16,
          11,
          8,
          12,
          6,
          13,
          9,
          6,
          4,
          6,
          8,
          6,
          2,
          5,
          7,
          3,
          1,
          4,
          4,
          2,
          4,
          6,
          1,
          1,
          1,
          2,
          1,
          4,
          1,
          2,
          2,
          4,
          4,
          2,
          3,
          4,
          1,
          8,
          1,
          3,
          4,
          1,
          2,
          1,
          1,
          1,
          2,
          3,
          1,
          2,
          3,
          1,
          1,
          5,
          5,
          3,
          1,
          2,
          1,
          3,
          1,
          2,
          3,
          1,
          1,
          3,
          1,
          1,
          3,
          1,
          1,
          2,
          1,
          1,
          1,
          2,
          2,
          3,
          1,
          1,
          2,
          2,
          1,
          2,
          1,
          3,
          2,
          2,
          2,
          2,
          1,
          1,
          1,
          2,
          1,
          1,
          2,
          3,
          2,
          2,
          2,
          1,
          1,
          2,
          1,
          2,
          1,
          2,
          1,
          3,
          1,
          2,
          1,
          1,
          1,
          1,
          1,
          1,
          1,
          1,
          1,
          1,
          1,
          1,
          1,
          2,
          1,
          1,
          1,
          1,
          1,
          1,
          1,
          1,
          1,
          2,
          1,
          1,
          1,
          1,
          1,
          1,
          1,
          1,
          1,
          1,
          1,
          1,
          1,
          1,
          2,
          1,
          1,
          1,
          1,
          1,
          1,
          1,
          1,
          1,
          1,
          1,
          1,
          1,
          1,
          1,
          1
         ],
         "yaxis": "y"
        },
        {
         "alignmentgroup": "True",
         "hovertemplate": "type=Total Set Entity Overlap<br>Frequency of occurance=%{x}<br>overlap=%{y}<extra></extra>",
         "legendgroup": "Total Set Entity Overlap",
         "marker": {
          "color": "#EF553B",
          "pattern": {
           "shape": ""
          }
         },
         "name": "Total Set Entity Overlap",
         "offsetgroup": "Total Set Entity Overlap",
         "orientation": "v",
         "showlegend": true,
         "textposition": "auto",
         "type": "bar",
         "x": [
          1,
          2,
          3,
          4,
          5,
          6,
          7,
          8,
          9,
          11,
          10,
          13,
          12,
          14,
          15,
          19,
          16,
          17,
          18,
          21,
          20,
          23,
          22,
          25,
          26,
          34,
          27,
          32,
          29,
          30,
          24,
          28,
          31,
          64,
          36,
          33,
          95,
          57,
          35,
          58,
          69,
          38,
          52,
          105,
          49,
          44,
          82,
          112,
          54,
          75,
          39,
          83,
          45,
          96,
          42,
          47,
          78,
          89,
          63,
          41,
          94,
          74,
          98,
          62,
          40,
          37,
          65,
          56,
          76,
          51,
          198,
          48,
          118,
          67,
          113,
          117,
          53,
          128,
          116,
          210,
          227,
          43,
          68,
          141,
          120,
          107,
          151,
          60,
          73,
          101,
          102,
          263,
          77,
          146,
          59,
          115,
          99,
          106,
          46,
          129,
          80,
          71,
          377,
          222,
          156,
          153,
          72,
          121,
          87,
          91,
          140,
          81,
          130,
          20316
         ],
         "xaxis": "x",
         "y": [
          27846,
          3417,
          1182,
          613,
          399,
          256,
          184,
          106,
          104,
          81,
          78,
          49,
          49,
          38,
          26,
          25,
          21,
          21,
          18,
          14,
          13,
          11,
          11,
          9,
          7,
          7,
          7,
          6,
          6,
          5,
          5,
          5,
          5,
          5,
          5,
          4,
          4,
          4,
          3,
          3,
          3,
          3,
          3,
          3,
          3,
          2,
          2,
          2,
          2,
          2,
          2,
          2,
          2,
          2,
          2,
          2,
          2,
          2,
          2,
          2,
          2,
          2,
          2,
          2,
          2,
          2,
          2,
          2,
          2,
          2,
          1,
          1,
          1,
          1,
          1,
          1,
          1,
          1,
          1,
          1,
          1,
          1,
          1,
          1,
          1,
          1,
          1,
          1,
          1,
          1,
          1,
          1,
          1,
          1,
          1,
          1,
          1,
          1,
          1,
          1,
          1,
          1,
          1,
          1,
          1,
          1,
          1,
          1,
          1,
          1,
          1,
          1,
          1,
          1
         ],
         "yaxis": "y"
        }
       ],
       "layout": {
        "barmode": "group",
        "legend": {
         "title": {
          "text": "type"
         },
         "tracegroupgap": 0
        },
        "margin": {
         "t": 60
        },
        "template": {
         "data": {
          "bar": [
           {
            "error_x": {
             "color": "#2a3f5f"
            },
            "error_y": {
             "color": "#2a3f5f"
            },
            "marker": {
             "line": {
              "color": "#E5ECF6",
              "width": 0.5
             },
             "pattern": {
              "fillmode": "overlay",
              "size": 10,
              "solidity": 0.2
             }
            },
            "type": "bar"
           }
          ],
          "barpolar": [
           {
            "marker": {
             "line": {
              "color": "#E5ECF6",
              "width": 0.5
             },
             "pattern": {
              "fillmode": "overlay",
              "size": 10,
              "solidity": 0.2
             }
            },
            "type": "barpolar"
           }
          ],
          "carpet": [
           {
            "aaxis": {
             "endlinecolor": "#2a3f5f",
             "gridcolor": "white",
             "linecolor": "white",
             "minorgridcolor": "white",
             "startlinecolor": "#2a3f5f"
            },
            "baxis": {
             "endlinecolor": "#2a3f5f",
             "gridcolor": "white",
             "linecolor": "white",
             "minorgridcolor": "white",
             "startlinecolor": "#2a3f5f"
            },
            "type": "carpet"
           }
          ],
          "choropleth": [
           {
            "colorbar": {
             "outlinewidth": 0,
             "ticks": ""
            },
            "type": "choropleth"
           }
          ],
          "contour": [
           {
            "colorbar": {
             "outlinewidth": 0,
             "ticks": ""
            },
            "colorscale": [
             [
              0,
              "#0d0887"
             ],
             [
              0.1111111111111111,
              "#46039f"
             ],
             [
              0.2222222222222222,
              "#7201a8"
             ],
             [
              0.3333333333333333,
              "#9c179e"
             ],
             [
              0.4444444444444444,
              "#bd3786"
             ],
             [
              0.5555555555555556,
              "#d8576b"
             ],
             [
              0.6666666666666666,
              "#ed7953"
             ],
             [
              0.7777777777777778,
              "#fb9f3a"
             ],
             [
              0.8888888888888888,
              "#fdca26"
             ],
             [
              1,
              "#f0f921"
             ]
            ],
            "type": "contour"
           }
          ],
          "contourcarpet": [
           {
            "colorbar": {
             "outlinewidth": 0,
             "ticks": ""
            },
            "type": "contourcarpet"
           }
          ],
          "heatmap": [
           {
            "colorbar": {
             "outlinewidth": 0,
             "ticks": ""
            },
            "colorscale": [
             [
              0,
              "#0d0887"
             ],
             [
              0.1111111111111111,
              "#46039f"
             ],
             [
              0.2222222222222222,
              "#7201a8"
             ],
             [
              0.3333333333333333,
              "#9c179e"
             ],
             [
              0.4444444444444444,
              "#bd3786"
             ],
             [
              0.5555555555555556,
              "#d8576b"
             ],
             [
              0.6666666666666666,
              "#ed7953"
             ],
             [
              0.7777777777777778,
              "#fb9f3a"
             ],
             [
              0.8888888888888888,
              "#fdca26"
             ],
             [
              1,
              "#f0f921"
             ]
            ],
            "type": "heatmap"
           }
          ],
          "heatmapgl": [
           {
            "colorbar": {
             "outlinewidth": 0,
             "ticks": ""
            },
            "colorscale": [
             [
              0,
              "#0d0887"
             ],
             [
              0.1111111111111111,
              "#46039f"
             ],
             [
              0.2222222222222222,
              "#7201a8"
             ],
             [
              0.3333333333333333,
              "#9c179e"
             ],
             [
              0.4444444444444444,
              "#bd3786"
             ],
             [
              0.5555555555555556,
              "#d8576b"
             ],
             [
              0.6666666666666666,
              "#ed7953"
             ],
             [
              0.7777777777777778,
              "#fb9f3a"
             ],
             [
              0.8888888888888888,
              "#fdca26"
             ],
             [
              1,
              "#f0f921"
             ]
            ],
            "type": "heatmapgl"
           }
          ],
          "histogram": [
           {
            "marker": {
             "pattern": {
              "fillmode": "overlay",
              "size": 10,
              "solidity": 0.2
             }
            },
            "type": "histogram"
           }
          ],
          "histogram2d": [
           {
            "colorbar": {
             "outlinewidth": 0,
             "ticks": ""
            },
            "colorscale": [
             [
              0,
              "#0d0887"
             ],
             [
              0.1111111111111111,
              "#46039f"
             ],
             [
              0.2222222222222222,
              "#7201a8"
             ],
             [
              0.3333333333333333,
              "#9c179e"
             ],
             [
              0.4444444444444444,
              "#bd3786"
             ],
             [
              0.5555555555555556,
              "#d8576b"
             ],
             [
              0.6666666666666666,
              "#ed7953"
             ],
             [
              0.7777777777777778,
              "#fb9f3a"
             ],
             [
              0.8888888888888888,
              "#fdca26"
             ],
             [
              1,
              "#f0f921"
             ]
            ],
            "type": "histogram2d"
           }
          ],
          "histogram2dcontour": [
           {
            "colorbar": {
             "outlinewidth": 0,
             "ticks": ""
            },
            "colorscale": [
             [
              0,
              "#0d0887"
             ],
             [
              0.1111111111111111,
              "#46039f"
             ],
             [
              0.2222222222222222,
              "#7201a8"
             ],
             [
              0.3333333333333333,
              "#9c179e"
             ],
             [
              0.4444444444444444,
              "#bd3786"
             ],
             [
              0.5555555555555556,
              "#d8576b"
             ],
             [
              0.6666666666666666,
              "#ed7953"
             ],
             [
              0.7777777777777778,
              "#fb9f3a"
             ],
             [
              0.8888888888888888,
              "#fdca26"
             ],
             [
              1,
              "#f0f921"
             ]
            ],
            "type": "histogram2dcontour"
           }
          ],
          "mesh3d": [
           {
            "colorbar": {
             "outlinewidth": 0,
             "ticks": ""
            },
            "type": "mesh3d"
           }
          ],
          "parcoords": [
           {
            "line": {
             "colorbar": {
              "outlinewidth": 0,
              "ticks": ""
             }
            },
            "type": "parcoords"
           }
          ],
          "pie": [
           {
            "automargin": true,
            "type": "pie"
           }
          ],
          "scatter": [
           {
            "fillpattern": {
             "fillmode": "overlay",
             "size": 10,
             "solidity": 0.2
            },
            "type": "scatter"
           }
          ],
          "scatter3d": [
           {
            "line": {
             "colorbar": {
              "outlinewidth": 0,
              "ticks": ""
             }
            },
            "marker": {
             "colorbar": {
              "outlinewidth": 0,
              "ticks": ""
             }
            },
            "type": "scatter3d"
           }
          ],
          "scattercarpet": [
           {
            "marker": {
             "colorbar": {
              "outlinewidth": 0,
              "ticks": ""
             }
            },
            "type": "scattercarpet"
           }
          ],
          "scattergeo": [
           {
            "marker": {
             "colorbar": {
              "outlinewidth": 0,
              "ticks": ""
             }
            },
            "type": "scattergeo"
           }
          ],
          "scattergl": [
           {
            "marker": {
             "colorbar": {
              "outlinewidth": 0,
              "ticks": ""
             }
            },
            "type": "scattergl"
           }
          ],
          "scattermapbox": [
           {
            "marker": {
             "colorbar": {
              "outlinewidth": 0,
              "ticks": ""
             }
            },
            "type": "scattermapbox"
           }
          ],
          "scatterpolar": [
           {
            "marker": {
             "colorbar": {
              "outlinewidth": 0,
              "ticks": ""
             }
            },
            "type": "scatterpolar"
           }
          ],
          "scatterpolargl": [
           {
            "marker": {
             "colorbar": {
              "outlinewidth": 0,
              "ticks": ""
             }
            },
            "type": "scatterpolargl"
           }
          ],
          "scatterternary": [
           {
            "marker": {
             "colorbar": {
              "outlinewidth": 0,
              "ticks": ""
             }
            },
            "type": "scatterternary"
           }
          ],
          "surface": [
           {
            "colorbar": {
             "outlinewidth": 0,
             "ticks": ""
            },
            "colorscale": [
             [
              0,
              "#0d0887"
             ],
             [
              0.1111111111111111,
              "#46039f"
             ],
             [
              0.2222222222222222,
              "#7201a8"
             ],
             [
              0.3333333333333333,
              "#9c179e"
             ],
             [
              0.4444444444444444,
              "#bd3786"
             ],
             [
              0.5555555555555556,
              "#d8576b"
             ],
             [
              0.6666666666666666,
              "#ed7953"
             ],
             [
              0.7777777777777778,
              "#fb9f3a"
             ],
             [
              0.8888888888888888,
              "#fdca26"
             ],
             [
              1,
              "#f0f921"
             ]
            ],
            "type": "surface"
           }
          ],
          "table": [
           {
            "cells": {
             "fill": {
              "color": "#EBF0F8"
             },
             "line": {
              "color": "white"
             }
            },
            "header": {
             "fill": {
              "color": "#C8D4E3"
             },
             "line": {
              "color": "white"
             }
            },
            "type": "table"
           }
          ]
         },
         "layout": {
          "annotationdefaults": {
           "arrowcolor": "#2a3f5f",
           "arrowhead": 0,
           "arrowwidth": 1
          },
          "autotypenumbers": "strict",
          "coloraxis": {
           "colorbar": {
            "outlinewidth": 0,
            "ticks": ""
           }
          },
          "colorscale": {
           "diverging": [
            [
             0,
             "#8e0152"
            ],
            [
             0.1,
             "#c51b7d"
            ],
            [
             0.2,
             "#de77ae"
            ],
            [
             0.3,
             "#f1b6da"
            ],
            [
             0.4,
             "#fde0ef"
            ],
            [
             0.5,
             "#f7f7f7"
            ],
            [
             0.6,
             "#e6f5d0"
            ],
            [
             0.7,
             "#b8e186"
            ],
            [
             0.8,
             "#7fbc41"
            ],
            [
             0.9,
             "#4d9221"
            ],
            [
             1,
             "#276419"
            ]
           ],
           "sequential": [
            [
             0,
             "#0d0887"
            ],
            [
             0.1111111111111111,
             "#46039f"
            ],
            [
             0.2222222222222222,
             "#7201a8"
            ],
            [
             0.3333333333333333,
             "#9c179e"
            ],
            [
             0.4444444444444444,
             "#bd3786"
            ],
            [
             0.5555555555555556,
             "#d8576b"
            ],
            [
             0.6666666666666666,
             "#ed7953"
            ],
            [
             0.7777777777777778,
             "#fb9f3a"
            ],
            [
             0.8888888888888888,
             "#fdca26"
            ],
            [
             1,
             "#f0f921"
            ]
           ],
           "sequentialminus": [
            [
             0,
             "#0d0887"
            ],
            [
             0.1111111111111111,
             "#46039f"
            ],
            [
             0.2222222222222222,
             "#7201a8"
            ],
            [
             0.3333333333333333,
             "#9c179e"
            ],
            [
             0.4444444444444444,
             "#bd3786"
            ],
            [
             0.5555555555555556,
             "#d8576b"
            ],
            [
             0.6666666666666666,
             "#ed7953"
            ],
            [
             0.7777777777777778,
             "#fb9f3a"
            ],
            [
             0.8888888888888888,
             "#fdca26"
            ],
            [
             1,
             "#f0f921"
            ]
           ]
          },
          "colorway": [
           "#636efa",
           "#EF553B",
           "#00cc96",
           "#ab63fa",
           "#FFA15A",
           "#19d3f3",
           "#FF6692",
           "#B6E880",
           "#FF97FF",
           "#FECB52"
          ],
          "font": {
           "color": "#2a3f5f"
          },
          "geo": {
           "bgcolor": "white",
           "lakecolor": "white",
           "landcolor": "#E5ECF6",
           "showlakes": true,
           "showland": true,
           "subunitcolor": "white"
          },
          "hoverlabel": {
           "align": "left"
          },
          "hovermode": "closest",
          "mapbox": {
           "style": "light"
          },
          "paper_bgcolor": "white",
          "plot_bgcolor": "#E5ECF6",
          "polar": {
           "angularaxis": {
            "gridcolor": "white",
            "linecolor": "white",
            "ticks": ""
           },
           "bgcolor": "#E5ECF6",
           "radialaxis": {
            "gridcolor": "white",
            "linecolor": "white",
            "ticks": ""
           }
          },
          "scene": {
           "xaxis": {
            "backgroundcolor": "#E5ECF6",
            "gridcolor": "white",
            "gridwidth": 2,
            "linecolor": "white",
            "showbackground": true,
            "ticks": "",
            "zerolinecolor": "white"
           },
           "yaxis": {
            "backgroundcolor": "#E5ECF6",
            "gridcolor": "white",
            "gridwidth": 2,
            "linecolor": "white",
            "showbackground": true,
            "ticks": "",
            "zerolinecolor": "white"
           },
           "zaxis": {
            "backgroundcolor": "#E5ECF6",
            "gridcolor": "white",
            "gridwidth": 2,
            "linecolor": "white",
            "showbackground": true,
            "ticks": "",
            "zerolinecolor": "white"
           }
          },
          "shapedefaults": {
           "line": {
            "color": "#2a3f5f"
           }
          },
          "ternary": {
           "aaxis": {
            "gridcolor": "white",
            "linecolor": "white",
            "ticks": ""
           },
           "baxis": {
            "gridcolor": "white",
            "linecolor": "white",
            "ticks": ""
           },
           "bgcolor": "#E5ECF6",
           "caxis": {
            "gridcolor": "white",
            "linecolor": "white",
            "ticks": ""
           }
          },
          "title": {
           "x": 0.05
          },
          "xaxis": {
           "automargin": true,
           "gridcolor": "white",
           "linecolor": "white",
           "ticks": "",
           "title": {
            "standoff": 15
           },
           "zerolinecolor": "white",
           "zerolinewidth": 2
          },
          "yaxis": {
           "automargin": true,
           "gridcolor": "white",
           "linecolor": "white",
           "ticks": "",
           "title": {
            "standoff": 15
           },
           "zerolinecolor": "white",
           "zerolinewidth": 2
          }
         }
        },
        "title": {
         "text": "Frequency of entity overlap"
        },
        "uniformtext": {
         "minsize": 10,
         "mode": "hide"
        },
        "xaxis": {
         "anchor": "y",
         "domain": [
          0,
          1
         ],
         "range": [
          0,
          40
         ],
         "title": {
          "text": "Frequency of occurance"
         }
        },
        "yaxis": {
         "anchor": "x",
         "domain": [
          0,
          1
         ],
         "range": [
          0,
          1000
         ],
         "title": {
          "text": "overlap"
         }
        }
       }
      },
      "text/html": [
       "<div>                            <div id=\"f04adeef-2b67-4d24-903a-36415a8ceddc\" class=\"plotly-graph-div\" style=\"height:525px; width:100%;\"></div>            <script type=\"text/javascript\">                require([\"plotly\"], function(Plotly) {                    window.PLOTLYENV=window.PLOTLYENV || {};                                    if (document.getElementById(\"f04adeef-2b67-4d24-903a-36415a8ceddc\")) {                    Plotly.newPlot(                        \"f04adeef-2b67-4d24-903a-36415a8ceddc\",                        [{\"alignmentgroup\":\"True\",\"hovertemplate\":\"type=Partial Set Entity Overlap<br>Frequency of occurance=%{x}<br>overlap=%{y}<extra></extra>\",\"legendgroup\":\"Partial Set Entity Overlap\",\"marker\":{\"color\":\"#636efa\",\"pattern\":{\"shape\":\"\"}},\"name\":\"Partial Set Entity Overlap\",\"offsetgroup\":\"Partial Set Entity Overlap\",\"orientation\":\"v\",\"showlegend\":true,\"textposition\":\"auto\",\"x\":[1,2,3,4,5,6,7,8,9,10,11,12,13,14,15,16,17,18,19,20,21,22,23,24,25,26,27,28,29,30,31,32,33,34,35,36,37,38,39,40,41,42,43,44,45,46,47,48,49,50,51,52,53,54,55,56,57,58,59,60,61,62,63,64,65,66,67,68,69,70,71,72,73,74,75,76,77,78,79,80,81,82,84,85,87,88,89,90,91,92,93,94,95,96,97,98,99,100,103,104,107,108,109,110,112,113,115,116,118,119,120,121,124,126,127,129,130,131,132,134,135,136,137,138,139,140,144,145,147,149,150,153,159,160,163,164,165,167,168,170,173,174,175,176,178,179,184,185,186,187,188,189,191,197,198,200,201,203,204,205,208,210,217,218,221,222,226,228,230,240,248,257,258,261,267,277,281,282,283,286,309,350,352,359,362,365,374,375,388,394,405,408,425,426,434,438,445,461,469,476,509,545,743,816,875,1481],\"xaxis\":\"x\",\"y\":[12430,3390,1625,891,591,424,304,209,167,141,122,106,105,72,56,74,49,35,50,49,36,37,25,33,25,30,14,15,17,11,15,9,15,20,10,13,16,9,12,16,11,8,12,6,13,9,6,4,6,8,6,2,5,7,3,1,4,4,2,4,6,1,1,1,2,1,4,1,2,2,4,4,2,3,4,1,8,1,3,4,1,2,1,1,1,2,3,1,2,3,1,1,5,5,3,1,2,1,3,1,2,3,1,1,3,1,1,3,1,1,2,1,1,1,2,2,3,1,1,2,2,1,2,1,3,2,2,2,2,1,1,1,2,1,1,2,3,2,2,2,1,1,2,1,2,1,2,1,3,1,2,1,1,1,1,1,1,1,1,1,1,1,1,1,2,1,1,1,1,1,1,1,1,1,2,1,1,1,1,1,1,1,1,1,1,1,1,1,1,2,1,1,1,1,1,1,1,1,1,1,1,1,1,1,1,1],\"yaxis\":\"y\",\"type\":\"bar\"},{\"alignmentgroup\":\"True\",\"hovertemplate\":\"type=Total Set Entity Overlap<br>Frequency of occurance=%{x}<br>overlap=%{y}<extra></extra>\",\"legendgroup\":\"Total Set Entity Overlap\",\"marker\":{\"color\":\"#EF553B\",\"pattern\":{\"shape\":\"\"}},\"name\":\"Total Set Entity Overlap\",\"offsetgroup\":\"Total Set Entity Overlap\",\"orientation\":\"v\",\"showlegend\":true,\"textposition\":\"auto\",\"x\":[1,2,3,4,5,6,7,8,9,11,10,13,12,14,15,19,16,17,18,21,20,23,22,25,26,34,27,32,29,30,24,28,31,64,36,33,95,57,35,58,69,38,52,105,49,44,82,112,54,75,39,83,45,96,42,47,78,89,63,41,94,74,98,62,40,37,65,56,76,51,198,48,118,67,113,117,53,128,116,210,227,43,68,141,120,107,151,60,73,101,102,263,77,146,59,115,99,106,46,129,80,71,377,222,156,153,72,121,87,91,140,81,130,20316],\"xaxis\":\"x\",\"y\":[27846,3417,1182,613,399,256,184,106,104,81,78,49,49,38,26,25,21,21,18,14,13,11,11,9,7,7,7,6,6,5,5,5,5,5,5,4,4,4,3,3,3,3,3,3,3,2,2,2,2,2,2,2,2,2,2,2,2,2,2,2,2,2,2,2,2,2,2,2,2,2,1,1,1,1,1,1,1,1,1,1,1,1,1,1,1,1,1,1,1,1,1,1,1,1,1,1,1,1,1,1,1,1,1,1,1,1,1,1,1,1,1,1,1,1],\"yaxis\":\"y\",\"type\":\"bar\"}],                        {\"template\":{\"data\":{\"histogram2dcontour\":[{\"type\":\"histogram2dcontour\",\"colorbar\":{\"outlinewidth\":0,\"ticks\":\"\"},\"colorscale\":[[0.0,\"#0d0887\"],[0.1111111111111111,\"#46039f\"],[0.2222222222222222,\"#7201a8\"],[0.3333333333333333,\"#9c179e\"],[0.4444444444444444,\"#bd3786\"],[0.5555555555555556,\"#d8576b\"],[0.6666666666666666,\"#ed7953\"],[0.7777777777777778,\"#fb9f3a\"],[0.8888888888888888,\"#fdca26\"],[1.0,\"#f0f921\"]]}],\"choropleth\":[{\"type\":\"choropleth\",\"colorbar\":{\"outlinewidth\":0,\"ticks\":\"\"}}],\"histogram2d\":[{\"type\":\"histogram2d\",\"colorbar\":{\"outlinewidth\":0,\"ticks\":\"\"},\"colorscale\":[[0.0,\"#0d0887\"],[0.1111111111111111,\"#46039f\"],[0.2222222222222222,\"#7201a8\"],[0.3333333333333333,\"#9c179e\"],[0.4444444444444444,\"#bd3786\"],[0.5555555555555556,\"#d8576b\"],[0.6666666666666666,\"#ed7953\"],[0.7777777777777778,\"#fb9f3a\"],[0.8888888888888888,\"#fdca26\"],[1.0,\"#f0f921\"]]}],\"heatmap\":[{\"type\":\"heatmap\",\"colorbar\":{\"outlinewidth\":0,\"ticks\":\"\"},\"colorscale\":[[0.0,\"#0d0887\"],[0.1111111111111111,\"#46039f\"],[0.2222222222222222,\"#7201a8\"],[0.3333333333333333,\"#9c179e\"],[0.4444444444444444,\"#bd3786\"],[0.5555555555555556,\"#d8576b\"],[0.6666666666666666,\"#ed7953\"],[0.7777777777777778,\"#fb9f3a\"],[0.8888888888888888,\"#fdca26\"],[1.0,\"#f0f921\"]]}],\"heatmapgl\":[{\"type\":\"heatmapgl\",\"colorbar\":{\"outlinewidth\":0,\"ticks\":\"\"},\"colorscale\":[[0.0,\"#0d0887\"],[0.1111111111111111,\"#46039f\"],[0.2222222222222222,\"#7201a8\"],[0.3333333333333333,\"#9c179e\"],[0.4444444444444444,\"#bd3786\"],[0.5555555555555556,\"#d8576b\"],[0.6666666666666666,\"#ed7953\"],[0.7777777777777778,\"#fb9f3a\"],[0.8888888888888888,\"#fdca26\"],[1.0,\"#f0f921\"]]}],\"contourcarpet\":[{\"type\":\"contourcarpet\",\"colorbar\":{\"outlinewidth\":0,\"ticks\":\"\"}}],\"contour\":[{\"type\":\"contour\",\"colorbar\":{\"outlinewidth\":0,\"ticks\":\"\"},\"colorscale\":[[0.0,\"#0d0887\"],[0.1111111111111111,\"#46039f\"],[0.2222222222222222,\"#7201a8\"],[0.3333333333333333,\"#9c179e\"],[0.4444444444444444,\"#bd3786\"],[0.5555555555555556,\"#d8576b\"],[0.6666666666666666,\"#ed7953\"],[0.7777777777777778,\"#fb9f3a\"],[0.8888888888888888,\"#fdca26\"],[1.0,\"#f0f921\"]]}],\"surface\":[{\"type\":\"surface\",\"colorbar\":{\"outlinewidth\":0,\"ticks\":\"\"},\"colorscale\":[[0.0,\"#0d0887\"],[0.1111111111111111,\"#46039f\"],[0.2222222222222222,\"#7201a8\"],[0.3333333333333333,\"#9c179e\"],[0.4444444444444444,\"#bd3786\"],[0.5555555555555556,\"#d8576b\"],[0.6666666666666666,\"#ed7953\"],[0.7777777777777778,\"#fb9f3a\"],[0.8888888888888888,\"#fdca26\"],[1.0,\"#f0f921\"]]}],\"mesh3d\":[{\"type\":\"mesh3d\",\"colorbar\":{\"outlinewidth\":0,\"ticks\":\"\"}}],\"scatter\":[{\"fillpattern\":{\"fillmode\":\"overlay\",\"size\":10,\"solidity\":0.2},\"type\":\"scatter\"}],\"parcoords\":[{\"type\":\"parcoords\",\"line\":{\"colorbar\":{\"outlinewidth\":0,\"ticks\":\"\"}}}],\"scatterpolargl\":[{\"type\":\"scatterpolargl\",\"marker\":{\"colorbar\":{\"outlinewidth\":0,\"ticks\":\"\"}}}],\"bar\":[{\"error_x\":{\"color\":\"#2a3f5f\"},\"error_y\":{\"color\":\"#2a3f5f\"},\"marker\":{\"line\":{\"color\":\"#E5ECF6\",\"width\":0.5},\"pattern\":{\"fillmode\":\"overlay\",\"size\":10,\"solidity\":0.2}},\"type\":\"bar\"}],\"scattergeo\":[{\"type\":\"scattergeo\",\"marker\":{\"colorbar\":{\"outlinewidth\":0,\"ticks\":\"\"}}}],\"scatterpolar\":[{\"type\":\"scatterpolar\",\"marker\":{\"colorbar\":{\"outlinewidth\":0,\"ticks\":\"\"}}}],\"histogram\":[{\"marker\":{\"pattern\":{\"fillmode\":\"overlay\",\"size\":10,\"solidity\":0.2}},\"type\":\"histogram\"}],\"scattergl\":[{\"type\":\"scattergl\",\"marker\":{\"colorbar\":{\"outlinewidth\":0,\"ticks\":\"\"}}}],\"scatter3d\":[{\"type\":\"scatter3d\",\"line\":{\"colorbar\":{\"outlinewidth\":0,\"ticks\":\"\"}},\"marker\":{\"colorbar\":{\"outlinewidth\":0,\"ticks\":\"\"}}}],\"scattermapbox\":[{\"type\":\"scattermapbox\",\"marker\":{\"colorbar\":{\"outlinewidth\":0,\"ticks\":\"\"}}}],\"scatterternary\":[{\"type\":\"scatterternary\",\"marker\":{\"colorbar\":{\"outlinewidth\":0,\"ticks\":\"\"}}}],\"scattercarpet\":[{\"type\":\"scattercarpet\",\"marker\":{\"colorbar\":{\"outlinewidth\":0,\"ticks\":\"\"}}}],\"carpet\":[{\"aaxis\":{\"endlinecolor\":\"#2a3f5f\",\"gridcolor\":\"white\",\"linecolor\":\"white\",\"minorgridcolor\":\"white\",\"startlinecolor\":\"#2a3f5f\"},\"baxis\":{\"endlinecolor\":\"#2a3f5f\",\"gridcolor\":\"white\",\"linecolor\":\"white\",\"minorgridcolor\":\"white\",\"startlinecolor\":\"#2a3f5f\"},\"type\":\"carpet\"}],\"table\":[{\"cells\":{\"fill\":{\"color\":\"#EBF0F8\"},\"line\":{\"color\":\"white\"}},\"header\":{\"fill\":{\"color\":\"#C8D4E3\"},\"line\":{\"color\":\"white\"}},\"type\":\"table\"}],\"barpolar\":[{\"marker\":{\"line\":{\"color\":\"#E5ECF6\",\"width\":0.5},\"pattern\":{\"fillmode\":\"overlay\",\"size\":10,\"solidity\":0.2}},\"type\":\"barpolar\"}],\"pie\":[{\"automargin\":true,\"type\":\"pie\"}]},\"layout\":{\"autotypenumbers\":\"strict\",\"colorway\":[\"#636efa\",\"#EF553B\",\"#00cc96\",\"#ab63fa\",\"#FFA15A\",\"#19d3f3\",\"#FF6692\",\"#B6E880\",\"#FF97FF\",\"#FECB52\"],\"font\":{\"color\":\"#2a3f5f\"},\"hovermode\":\"closest\",\"hoverlabel\":{\"align\":\"left\"},\"paper_bgcolor\":\"white\",\"plot_bgcolor\":\"#E5ECF6\",\"polar\":{\"bgcolor\":\"#E5ECF6\",\"angularaxis\":{\"gridcolor\":\"white\",\"linecolor\":\"white\",\"ticks\":\"\"},\"radialaxis\":{\"gridcolor\":\"white\",\"linecolor\":\"white\",\"ticks\":\"\"}},\"ternary\":{\"bgcolor\":\"#E5ECF6\",\"aaxis\":{\"gridcolor\":\"white\",\"linecolor\":\"white\",\"ticks\":\"\"},\"baxis\":{\"gridcolor\":\"white\",\"linecolor\":\"white\",\"ticks\":\"\"},\"caxis\":{\"gridcolor\":\"white\",\"linecolor\":\"white\",\"ticks\":\"\"}},\"coloraxis\":{\"colorbar\":{\"outlinewidth\":0,\"ticks\":\"\"}},\"colorscale\":{\"sequential\":[[0.0,\"#0d0887\"],[0.1111111111111111,\"#46039f\"],[0.2222222222222222,\"#7201a8\"],[0.3333333333333333,\"#9c179e\"],[0.4444444444444444,\"#bd3786\"],[0.5555555555555556,\"#d8576b\"],[0.6666666666666666,\"#ed7953\"],[0.7777777777777778,\"#fb9f3a\"],[0.8888888888888888,\"#fdca26\"],[1.0,\"#f0f921\"]],\"sequentialminus\":[[0.0,\"#0d0887\"],[0.1111111111111111,\"#46039f\"],[0.2222222222222222,\"#7201a8\"],[0.3333333333333333,\"#9c179e\"],[0.4444444444444444,\"#bd3786\"],[0.5555555555555556,\"#d8576b\"],[0.6666666666666666,\"#ed7953\"],[0.7777777777777778,\"#fb9f3a\"],[0.8888888888888888,\"#fdca26\"],[1.0,\"#f0f921\"]],\"diverging\":[[0,\"#8e0152\"],[0.1,\"#c51b7d\"],[0.2,\"#de77ae\"],[0.3,\"#f1b6da\"],[0.4,\"#fde0ef\"],[0.5,\"#f7f7f7\"],[0.6,\"#e6f5d0\"],[0.7,\"#b8e186\"],[0.8,\"#7fbc41\"],[0.9,\"#4d9221\"],[1,\"#276419\"]]},\"xaxis\":{\"gridcolor\":\"white\",\"linecolor\":\"white\",\"ticks\":\"\",\"title\":{\"standoff\":15},\"zerolinecolor\":\"white\",\"automargin\":true,\"zerolinewidth\":2},\"yaxis\":{\"gridcolor\":\"white\",\"linecolor\":\"white\",\"ticks\":\"\",\"title\":{\"standoff\":15},\"zerolinecolor\":\"white\",\"automargin\":true,\"zerolinewidth\":2},\"scene\":{\"xaxis\":{\"backgroundcolor\":\"#E5ECF6\",\"gridcolor\":\"white\",\"linecolor\":\"white\",\"showbackground\":true,\"ticks\":\"\",\"zerolinecolor\":\"white\",\"gridwidth\":2},\"yaxis\":{\"backgroundcolor\":\"#E5ECF6\",\"gridcolor\":\"white\",\"linecolor\":\"white\",\"showbackground\":true,\"ticks\":\"\",\"zerolinecolor\":\"white\",\"gridwidth\":2},\"zaxis\":{\"backgroundcolor\":\"#E5ECF6\",\"gridcolor\":\"white\",\"linecolor\":\"white\",\"showbackground\":true,\"ticks\":\"\",\"zerolinecolor\":\"white\",\"gridwidth\":2}},\"shapedefaults\":{\"line\":{\"color\":\"#2a3f5f\"}},\"annotationdefaults\":{\"arrowcolor\":\"#2a3f5f\",\"arrowhead\":0,\"arrowwidth\":1},\"geo\":{\"bgcolor\":\"white\",\"landcolor\":\"#E5ECF6\",\"subunitcolor\":\"white\",\"showland\":true,\"showlakes\":true,\"lakecolor\":\"white\"},\"title\":{\"x\":0.05},\"mapbox\":{\"style\":\"light\"}}},\"xaxis\":{\"anchor\":\"y\",\"domain\":[0.0,1.0],\"title\":{\"text\":\"Frequency of occurance\"},\"range\":[0,40]},\"yaxis\":{\"anchor\":\"x\",\"domain\":[0.0,1.0],\"title\":{\"text\":\"overlap\"},\"range\":[0,1000]},\"legend\":{\"title\":{\"text\":\"type\"},\"tracegroupgap\":0},\"margin\":{\"t\":60},\"barmode\":\"group\",\"title\":{\"text\":\"Frequency of entity overlap\"},\"uniformtext\":{\"mode\":\"hide\",\"minsize\":10}},                        {\"responsive\": true}                    ).then(function(){\n",
       "                            \n",
       "var gd = document.getElementById('f04adeef-2b67-4d24-903a-36415a8ceddc');\n",
       "var x = new MutationObserver(function (mutations, observer) {{\n",
       "        var display = window.getComputedStyle(gd).display;\n",
       "        if (!display || display === 'none') {{\n",
       "            console.log([gd, 'removed!']);\n",
       "            Plotly.purge(gd);\n",
       "            observer.disconnect();\n",
       "        }}\n",
       "}});\n",
       "\n",
       "// Listen for the removal of the full notebook cells\n",
       "var notebookContainer = gd.closest('#notebook-container');\n",
       "if (notebookContainer) {{\n",
       "    x.observe(notebookContainer, {childList: true});\n",
       "}}\n",
       "\n",
       "// Listen for the clearing of the current output cell\n",
       "var outputEl = gd.closest('.output');\n",
       "if (outputEl) {{\n",
       "    x.observe(outputEl, {childList: true});\n",
       "}}\n",
       "\n",
       "                        })                };                });            </script>        </div>"
      ]
     },
     "metadata": {},
     "output_type": "display_data"
    }
   ],
   "source": [
    "\n",
    "fig = px.bar(d, x=\"Frequency of occurance\", y=\"overlap\", color=\"type\")\n",
    "fig.update_xaxes(range=[0,40])\n",
    "fig.update_yaxes(range=[0,1000])\n",
    "\n",
    "fig.update_layout(\n",
    "    title_text=\"Frequency of entity overlap\",\n",
    "    barmode=\"group\",\n",
    "    uniformtext=dict(mode=\"hide\", minsize=10),\n",
    ")\n",
    "\n",
    "\n",
    "print(round(d[d['Frequency of occurance'] < 5]['overlap'].sum() * 100 / d['overlap'].sum(), 2), \" percent of the documents have under 6 overlapping terms.\")\n",
    "fig.show()"
   ]
  },
  {
   "cell_type": "markdown",
   "metadata": {},
   "source": [
    "### Testing some summarizations with different entity types \n"
   ]
  },
  {
   "cell_type": "code",
   "execution_count": 8,
   "metadata": {},
   "outputs": [],
   "source": [
    "import multisum as msu"
   ]
  },
  {
   "cell_type": "code",
   "execution_count": 14,
   "metadata": {},
   "outputs": [],
   "source": [
    "def run_sum(df): \n",
    "    documents, doc_incidences, load_time = msu.load_corpus(df, 'Text') \n",
    "    msu.summarize_collect(df, documents, doc_incidences, 'position', 150, False)\n",
    "    # msu.summarize_collect(df, documents, doc_incidences, 'fisher', 150, False) # #Must first compute bigrams if we want to run with Fisher \n",
    "    msu.summarize_collect(df, documents, doc_incidences, 'sentances', 150, False)"
   ]
  },
  {
   "cell_type": "code",
   "execution_count": 15,
   "metadata": {},
   "outputs": [
    {
     "name": "stdout",
     "output_type": "stream",
     "text": [
      "\n",
      "Results for Elizabeth II\n",
      "-------------------\n",
      "\n",
      "Summarizing 6 documents under scheme position\n",
      "Summary time: 0.005240440368652344\n",
      "Summary generated in 1086403 ns\n",
      "\n",
      " -----summary------ \n",
      "\n",
      "Queen Elizabeth's bodyguards call her \"Sharon\" when out in public for safety purposes, according to The Sun.                                          (The Queen's royal protection officers reportedly use this secret code name for her when out in public)\n",
      "One of the year’s outstanding programs, season three of Netflix’s “The Crown” presents the British royal family as surprisingly poignant, vulnerable and likable.(Beatrice will be the first princess in the Queen's family to become a stepmother)\n",
      "If you keep up with royal headlines, you'll recall that Queen Elizabeth surprisingly has a great sense of humor despite her proper appearance.        (The Queen's royal protection officers reportedly use this secret code name for her when out in public)\n",
      "At 93, she's well past the age at which most people retire; and yet, the monarch continues to keep up with her extensive royal duties, and even find some time for fun.(Queen Elizabeth Just Rode Horseback at Age 93)\n",
      "Princess Charlotte has captivated the hearts of fans of the royal family since the day she was born.                                                  (Queen Elizabeth Just Rode Horseback at Age 93)\n",
      "Colman also hints at a playful side that brings to mind the Beatles song “Her Majesty.” But most of the way, the actress is the show’s solid center and provides support that makes everyone else look good.('The Crown': All hail Olivia Colman as Elizabeth II)\n",
      "\n",
      "-------------------\n",
      "\n",
      "Summarizing 6 documents under scheme sentances\n",
      "Summary time: 0.00496673583984375\n",
      "Summary generated in 942302 ns\n",
      "\n",
      " -----summary------ \n",
      "\n",
      "Colman also hints at a playful side that brings to mind the Beatles song “Her Majesty.” But most of the way, the actress is the show’s solid center and provides support that makes everyone else look good.('The Crown': All hail Olivia Colman as Elizabeth II)\n",
      "And now, her former police officer Richard Griffin is revealing a practical joke the Queen played on a group of tourists a few years back that puts all others to shame.(Queen Elizabeth Once Trolled a Group of Tourists Who Didn't Recognize Her at Balmoral Castle)\n",
      "Edoardo, 34, and Chinese-American interior designer Dara, founder of the successful architecture studio Design Haus Liberty, previously lived together in London, and as of last year were still sharing their home despite their split -- though he has since moved in with Beatrice at St. James Palace A close family friend of Edoardo's stated that he and Dara split six months before he began dating Beatrice.(Beatrice will be the first princess in the Queen's family to become a stepmother)\n",
      "It's recently been reported that the Queen previously trolled some American sightseers wandering around Balmoral Estate.                              (Queen Elizabeth Once Trolled a Group of Tourists Who Didn't Recognize Her at Balmoral Castle)\n",
      "\n",
      "\n",
      "Results for National Football League\n",
      "-------------------\n",
      "\n",
      "Summarizing 875 documents under scheme position\n",
      "Summary time: 1.3075358867645264\n",
      "Summary generated in 145488535 ns\n",
      "\n",
      " -----summary------ \n",
      "\n",
      "The Cincinnati Bengals are going to have a top pick in the NFL Draft.                                                                                 (NFL Notes: Patriots midseason superlatives)\n",
      "And then he had the big game in their last game against the Chiefs.                                                                                   (NFL analyst Greg Cosell talks Detroit Lions vs. Packers)\n",
      "On Sunday Night Football, the Kansas City Chiefs fell to the Green Bay Packers.                                                                       (Let's see how former Eagles looked in Week 8 of the NFL regular season)\n",
      "But the Lions appear to be a better offense with him on the field.                                                                                    (Ranking the 32 best NFL rookies so far in 2019)\n",
      "Sanders caught a touchdown pass in his first game for the 49ers last week.                                                                            (NFL teams did their wheeling and dealing early this year)\n",
      "He aims for his third in a row with a forced fumble.                                                                                                  (NFL Week 8 Primer: Cincinnati Bengals (0-7) vs. Los Angeles Rams (4-3))\n",
      "He needs to do a lot more to get into the Hall of Fame.                                                                                               (NFL Experts: Which current NFL quarterbacks will wind up in the Hall of Fame?)\n",
      "At this point, the Texans should be able to run away with the division.                                                                               (NFL Power Rankings: Week 10)\n",
      "He completed 25-of-32 passes for 342 yards with three touchdowns and one interception.                                                                (Top takeaways from Sunday's Week 8 NFL action)\n",
      "They have a veteran quarterback and the chance to win a Super Bowl.                                                                                   (8 should-be buyers at the NFL trade deadline)\n",
      "Indianapolis Colts The Colts are currently sitting at the top of the AFC South.                                                                       (8 should-be buyers at the NFL trade deadline)\n",
      "\n",
      "-------------------\n",
      "\n",
      "Summarizing 875 documents under scheme sentances\n",
      "Summary time: 1.446784496307373\n",
      "Summary generated in 168881132 ns\n",
      "\n",
      " -----summary------ \n",
      "\n",
      "With all eyes on Sunday’s game against the New England Patriots, the Ravens have a shot to establish themselves as a Super Bowl contender in the eyes of the league.(NFL Power Rankings Roundup: Ravens Remain Among the League's Elite After Bye)\n",
      "If the Eagles are going to be a true contender this season, they need to get better play out of their defense.                                        (Around the NFL (Week 7): Hot seats heating up while some teams keep on keeping on)\n",
      "He is now with the Los Angeles Rams and has not had much time to practice with his new team following the trade, and he will have his work cut out for him.(15 key questions for NFL Week 7)\n",
      "But there is a way to salvage the season and make the NFL playoffs.                                                                                   (5 struggling teams that can still make NFL playoffs)\n",
      "Darnell Savage returned to the field for the Packers after missing the past few games with an ankle injury.                                           (Terps in the NFL: Stefon Diggs continues his hot streak in Week 8)\n",
      "“We’re going down to Dallas, and our guys are gonna be ready to play.                                                                                 (NFL Power Rankings Roundup Week 7: Eagles take a big step back)\n",
      "He has passed for six touchdowns and just one interception in consecutive wins over the Giants and Eagles.                                            (15 key questions for NFL Week 7)\n",
      "\n",
      "\n",
      "Results for Tenneseee\n",
      "-------------------\n",
      "\n",
      "Summarizing 127 documents under scheme position\n",
      "Summary time: 0.0772097110748291\n",
      "Summary generated in 3514927 ns\n",
      "\n",
      " -----summary------ \n",
      "\n",
      "A subscription to one of our Tennessee publications gets you unlimited access to all the latest politics news, podcasts like Grand Divisions, plus newsletters, a personalized mobile experience and the ability to tap into stories, photos and videos from throughout the USA TODAY Network's 109 local sites.(Tennessee's refugee resettlement lawsuit dealt major setback, leaving U.S. Supreme Court as final option)\n",
      "This article originally appeared on Nashville Tennessean: 15-minute average wait for a Tennessee driver's license?                                    (15-minute average wait for a Tennessee driver's license? 'That's b.s.,' lawmaker says in tense hearing)\n",
      "The number of vaping-related respiratory illnesses reported in Tennessee have continued to rise, according to the most recent statistics from the Tennessee Department of Health.(Vaping-related death in Nashville is the first e-cigarette fatality in Tennessee)\n",
      "Six years ago the state touted its rapid reading and math acceleration against the rest of the nation.                                                (Tennessee's academic progress stalls, nation's new education report card shows)\n",
      "KNOXVILLE, Tenn. (AP) — Three Tennessee teenagers have been sentenced in the death of a 15-year-old classmate.                                        (3 to be inducted into Tennessee sports writers hall of fame)\n",
      "A man named Tupac Shakur was arrested in Tennessee this weekend and allegedly pulled a knife on police when they attempted to take him into custody.  (Michael Bloomberg requests Tennessee presidential ballot petition)\n",
      "\n",
      "-------------------\n",
      "\n",
      "Summarizing 127 documents under scheme sentances\n",
      "Summary time: 0.0684823989868164\n",
      "Summary generated in 7917197 ns\n",
      "\n",
      " -----summary------ \n",
      "\n",
      "A subscription to one of our Tennessee publications gets you unlimited access to all the latest politics news, podcasts like Grand Divisions, plus newsletters, a personalized mobile experience and the ability to tap into stories, photos and videos from throughout the USA TODAY Network's 109 local sites.(Tennessee's refugee resettlement lawsuit dealt major setback, leaving U.S. Supreme Court as final option)\n",
      "At best, this has resulted in Tennessee's gross mismanagement of federal dollars; at worst, Tennessee has deliberately chosen not to assist needy families,\" Cohen wrote.(Tennessee congressman seeks answers on welfare surplus)\n",
      "\"We cannot possibly consider codifying DACA when we have not yet addressed the high volume of illegal immigrants pouring over our southern border,\" she said in an emailed statement to the Tennessean in October.(The history of DACA is full of Tennessee voices. Now its future hinges on a looming Supreme Court decision)\n",
      "In footage making the rounds online, Dinkins could be seen lightly bouncing the baby on his hip while he administered the oath to Juliana Lamar, the mother of the 1-year-old child who recently graduated from Belmont University College of Law, according to BuzzFeed News.(Tennessee judge holds lawyer's baby as he swears her into the state bar in viral video)\n",
      "\n",
      "\n",
      "Results for Porsche (vehicles)\n",
      "-------------------\n",
      "\n",
      "Summarizing 7 documents under scheme position\n",
      "Summary time: 0.012046098709106445\n",
      "Summary generated in 2200205 ns\n",
      "\n",
      " -----summary------ \n",
      "\n",
      "The vehicle in the video appears to be the standard 911 Turbo because of the two oval exhaust outlets at the back.                                    (Porsche 911 Turbo Spied Testing On 2 Continents)\n",
      "“Unfortunately, you couldn’t move enough of the building to get to the car,” he told me.                                                              (West Virginia Man Discovers Incredible 1967 Porsche 911 Buried Under A Fallen Barn)\n",
      "If you're willing to give up a little bit of steering feel and learn to work around the brake pedal, you'll find far more car to love in the Corvette.(2020 Chevrolet Corvette vs. 2020 Porsche 911 Comparison: Two Icons on Equal Footing)\n",
      "A thirty-seven year-old respiratory therapist and Porsche fan Mike Savina didn’t know what to expect when he arrived at a fallen barn not far from his home in West Virginia.(eBay Find: Would You Buy A Pink Porsche 911 For $105K?)\n",
      "There’s no way I can leave this car sitting in that barn and not chase it,” he admitted, mentioning that he could see the end of a white Cadillac poking out from under the wreckage.(West Virginia Man Discovers Incredible 1967 Porsche 911 Buried Under A Fallen Barn)\n",
      "Go all the way to Track mode, and it's pretty stiff, but even then it's never harsh.                                                                  (2020 Chevrolet Corvette vs. 2020 Porsche 911 Comparison: Two Icons on Equal Footing)\n",
      "\n",
      "-------------------\n",
      "\n",
      "Summarizing 7 documents under scheme sentances\n",
      "Summary time: 0.010826826095581055\n",
      "Summary generated in 579780 ns\n",
      "\n",
      " -----summary------ \n",
      "\n",
      "The vehicle in the video appears to be the standard 911 Turbo because of the two oval exhaust outlets at the back.                                    (Porsche 911 Turbo Spied Testing On 2 Continents)\n",
      "If you're willing to give up a little bit of steering feel and learn to work around the brake pedal, you'll find far more car to love in the Corvette.(2020 Chevrolet Corvette vs. 2020 Porsche 911 Comparison: Two Icons on Equal Footing)\n",
      "There’s no way I can leave this car sitting in that barn and not chase it,” he admitted, mentioning that he could see the end of a white Cadillac poking out from under the wreckage.(West Virginia Man Discovers Incredible 1967 Porsche 911 Buried Under A Fallen Barn)\n",
      "If those extra tenths on a racetrack matter most, the Porsche is also worth the money.                                                                (2020 Chevrolet Corvette vs. 2020 Porsche 911 Comparison: Two Icons on Equal Footing)\n",
      "“Unfortunately, you couldn’t move enough of the building to get to the car,” he told me.                                                              (West Virginia Man Discovers Incredible 1967 Porsche 911 Buried Under A Fallen Barn)\n",
      "A thirty-seven year-old respiratory therapist and Porsche fan Mike Savina didn’t know what to expect when he arrived at a fallen barn not far from his home in West Virginia.(eBay Find: Would You Buy A Pink Porsche 911 For $105K?)\n",
      "\n",
      "\n",
      "Results for Iphone\n",
      "-------------------\n",
      "\n",
      "Summarizing 4 documents under scheme position\n",
      "Summary time: 0.003801584243774414\n",
      "Summary generated in 884793 ns\n",
      "\n",
      " -----summary------ \n",
      "\n",
      "Apple may be working on a new, lower-cost iPhone SE 2 with some of the same features as the current iPhone 11 , such as the A13 Bionic chip.          (iPhone SE2 is coming, and it could be huge (but also kinda small))\n",
      "We heard recently that the next iPad Pro would land in the first half of 2020 and that it would come with a rear camera capable of 3D sensing.        (iPhone SE 2 will launch at $399, Apple analyst Kuo predicts)\n",
      "In a new research report, noted Apple analyst Ming-Chi Kuo predicts that prices for the rumored iPhone SE 2 will start at $399, MacRumors reports.    (iPhone SE 2 and new iPad Pro apparently on track for an early 2020 launch)\n",
      "Kuo also says that the new phone will be available with 64GB or 128GB of internal storage (although a report from earlier this year said it would only have 128GB), and will come in gray, silver, or red.(Apple's iPhone SE 2 will start at $399, Ming-Chi Kuo predicts)\n",
      "Of course, it has been even longer since the iPhone SE landed, but whether Apple plans to make a second one of those at all is still in question.     (iPhone SE 2 and new iPad Pro apparently on track for an early 2020 launch)\n",
      "\n",
      "-------------------\n",
      "\n",
      "Summarizing 4 documents under scheme sentances\n",
      "Summary time: 0.0035581588745117188\n",
      "Summary generated in 805170 ns\n",
      "\n",
      " -----summary------ \n",
      "\n",
      "Of course, it has been even longer since the iPhone SE landed, but whether Apple plans to make a second one of those at all is still in question.     (iPhone SE 2 and new iPad Pro apparently on track for an early 2020 launch)\n",
      "In this week's Apple Core roundup, we take a look at the latest rumors about the spiritual successor to the iPhone SE and dissect a new patent that shows a new Apple smart ring concept.(iPhone SE2 is coming, and it could be huge (but also kinda small))\n",
      "Last year, for instance, he correctly predicted that Apple would release a 6.1-inch iPhone with an LCD display (which would become the iPhone XR ) after simultaneously launching two OLED-based iPhones (iPhone XS, XS Max ).(iPhone SE 2 will launch at $399, Apple analyst Kuo predicts)\n",
      "Welcome back, iPhone SE Today's phones seem big and bulky compared to the compact iPhone SE that first made its debut back in 2016.                   (iPhone SE2 is coming, and it could be huge (but also kinda small))\n",
      "That means the new phone would potentially have a 4.7-inch display (bigger than the original iPhone SE's 4-inch screen) and a home button, but no FaceID.(iPhone SE2 is coming, and it could be huge (but also kinda small))\n",
      "\n"
     ]
    }
   ],
   "source": [
    "# Q9682 - Elizabeth II\n",
    "queen = MIND_w_topics[[\"Q9682\" in x for x in MIND_w_topics['title_entities_wikiid']]].reset_index()\n",
    "print(\"\\nResults for Elizabeth II\")\n",
    "run_sum(queen)\n",
    "\n",
    "# Q1215884 - National Football League\n",
    "foot = MIND_w_topics[[\"Q1215884\" in x for x in MIND_w_topics['title_entities_wikiid']]].reset_index()\n",
    "print(\"\\nResults for National Football League\")\n",
    "run_sum(foot)\n",
    "\n",
    "# geographic entity - Tennesse\n",
    "print(\"\\nResults for Tenneseee\")\n",
    "geo = MIND_w_topics[[\"Q1509\" in x for x in MIND_w_topics['title_entities_wikiid']]].reset_index()\n",
    "run_sum(geo)\n",
    "\n",
    "# vehicle - Porsche\n",
    "print(\"\\nResults for Porsche (vehicles)\")\n",
    "v = MIND_w_topics[[\"Q219357\" in x for x in MIND_w_topics['title_entities_wikiid']]].reset_index()\n",
    "run_sum(v)\n",
    "\n",
    "# technology - IPhone \n",
    "print(\"\\nResults for Iphone\")\n",
    "pho = MIND_w_topics[[\"Q23309966\" in x for x in MIND_w_topics['title_entities_wikiid']]].reset_index()\n",
    "run_sum(pho)"
   ]
  },
  {
   "cell_type": "code",
   "execution_count": 11,
   "metadata": {},
   "outputs": [
    {
     "data": {
      "text/html": [
       "<div>\n",
       "<style scoped>\n",
       "    .dataframe tbody tr th:only-of-type {\n",
       "        vertical-align: middle;\n",
       "    }\n",
       "\n",
       "    .dataframe tbody tr th {\n",
       "        vertical-align: top;\n",
       "    }\n",
       "\n",
       "    .dataframe thead th {\n",
       "        text-align: right;\n",
       "    }\n",
       "</style>\n",
       "<table border=\"1\" class=\"dataframe\">\n",
       "  <thead>\n",
       "    <tr style=\"text-align: right;\">\n",
       "      <th></th>\n",
       "      <th>title_entities_names</th>\n",
       "      <th>title_entities_wikiid</th>\n",
       "      <th>title_entities_type</th>\n",
       "    </tr>\n",
       "  </thead>\n",
       "  <tbody>\n",
       "    <tr>\n",
       "      <th>0</th>\n",
       "      <td>[Waterville, Maine]</td>\n",
       "      <td>[Q997170]</td>\n",
       "      <td>[G]</td>\n",
       "    </tr>\n",
       "    <tr>\n",
       "      <th>1</th>\n",
       "      <td>[]</td>\n",
       "      <td>[]</td>\n",
       "      <td>[]</td>\n",
       "    </tr>\n",
       "    <tr>\n",
       "      <th>2</th>\n",
       "      <td>[Houston Astros]</td>\n",
       "      <td>[Q848117]</td>\n",
       "      <td>[O]</td>\n",
       "    </tr>\n",
       "    <tr>\n",
       "      <th>3</th>\n",
       "      <td>[]</td>\n",
       "      <td>[]</td>\n",
       "      <td>[]</td>\n",
       "    </tr>\n",
       "    <tr>\n",
       "      <th>4</th>\n",
       "      <td>[Lung cancer]</td>\n",
       "      <td>[Q47912]</td>\n",
       "      <td>[C]</td>\n",
       "    </tr>\n",
       "    <tr>\n",
       "      <th>5</th>\n",
       "      <td>[Northern Kentucky]</td>\n",
       "      <td>[Q7058599]</td>\n",
       "      <td>[U]</td>\n",
       "    </tr>\n",
       "    <tr>\n",
       "      <th>6</th>\n",
       "      <td>[]</td>\n",
       "      <td>[]</td>\n",
       "      <td>[]</td>\n",
       "    </tr>\n",
       "    <tr>\n",
       "      <th>7</th>\n",
       "      <td>[Lori Lightfoot, Canada goose]</td>\n",
       "      <td>[Q56486914, Q26733]</td>\n",
       "      <td>[N, U]</td>\n",
       "    </tr>\n",
       "    <tr>\n",
       "      <th>8</th>\n",
       "      <td>[Chicago Bears, Mitchell Trubisky, Lori Lightf...</td>\n",
       "      <td>[Q205033, Q26405845, Q56486914, Q780442]</td>\n",
       "      <td>[O, P, N, O]</td>\n",
       "    </tr>\n",
       "    <tr>\n",
       "      <th>9</th>\n",
       "      <td>[Walt Williams]</td>\n",
       "      <td>[Q1458276]</td>\n",
       "      <td>[P]</td>\n",
       "    </tr>\n",
       "    <tr>\n",
       "      <th>10</th>\n",
       "      <td>[Tennessee]</td>\n",
       "      <td>[Q1509]</td>\n",
       "      <td>[G]</td>\n",
       "    </tr>\n",
       "    <tr>\n",
       "      <th>11</th>\n",
       "      <td>[Apple Inc.]</td>\n",
       "      <td>[Q312]</td>\n",
       "      <td>[O]</td>\n",
       "    </tr>\n",
       "    <tr>\n",
       "      <th>12</th>\n",
       "      <td>[]</td>\n",
       "      <td>[]</td>\n",
       "      <td>[]</td>\n",
       "    </tr>\n",
       "    <tr>\n",
       "      <th>13</th>\n",
       "      <td>[ITunes, MacOS Catalina, IPhone]</td>\n",
       "      <td>[Q9589, Q64351129, Q2766]</td>\n",
       "      <td>[W, N, J]</td>\n",
       "    </tr>\n",
       "    <tr>\n",
       "      <th>14</th>\n",
       "      <td>[ITunes, Microsoft Windows]</td>\n",
       "      <td>[Q9589, Q1406]</td>\n",
       "      <td>[W, J]</td>\n",
       "    </tr>\n",
       "    <tr>\n",
       "      <th>15</th>\n",
       "      <td>[Adobe Inc.]</td>\n",
       "      <td>[Q11463]</td>\n",
       "      <td>[N]</td>\n",
       "    </tr>\n",
       "    <tr>\n",
       "      <th>16</th>\n",
       "      <td>[IPhone, Apple Inc.]</td>\n",
       "      <td>[Q2766, Q312]</td>\n",
       "      <td>[J, O]</td>\n",
       "    </tr>\n",
       "    <tr>\n",
       "      <th>17</th>\n",
       "      <td>[IOS]</td>\n",
       "      <td>[Q48493]</td>\n",
       "      <td>[J]</td>\n",
       "    </tr>\n",
       "    <tr>\n",
       "      <th>18</th>\n",
       "      <td>[IPhone SE]</td>\n",
       "      <td>[Q23309966]</td>\n",
       "      <td>[U]</td>\n",
       "    </tr>\n",
       "    <tr>\n",
       "      <th>19</th>\n",
       "      <td>[IPhone SE, Apple Inc.]</td>\n",
       "      <td>[Q23309966, Q312]</td>\n",
       "      <td>[U, O]</td>\n",
       "    </tr>\n",
       "    <tr>\n",
       "      <th>20</th>\n",
       "      <td>[IPad Pro, IPhone SE]</td>\n",
       "      <td>[Q20962060, Q23309966]</td>\n",
       "      <td>[U, U]</td>\n",
       "    </tr>\n",
       "    <tr>\n",
       "      <th>21</th>\n",
       "      <td>[OLED]</td>\n",
       "      <td>[Q209593]</td>\n",
       "      <td>[U]</td>\n",
       "    </tr>\n",
       "    <tr>\n",
       "      <th>22</th>\n",
       "      <td>[]</td>\n",
       "      <td>[]</td>\n",
       "      <td>[]</td>\n",
       "    </tr>\n",
       "    <tr>\n",
       "      <th>23</th>\n",
       "      <td>[]</td>\n",
       "      <td>[]</td>\n",
       "      <td>[]</td>\n",
       "    </tr>\n",
       "    <tr>\n",
       "      <th>24</th>\n",
       "      <td>[]</td>\n",
       "      <td>[]</td>\n",
       "      <td>[]</td>\n",
       "    </tr>\n",
       "    <tr>\n",
       "      <th>25</th>\n",
       "      <td>[Scottish Highlands]</td>\n",
       "      <td>[Q106652]</td>\n",
       "      <td>[G]</td>\n",
       "    </tr>\n",
       "    <tr>\n",
       "      <th>26</th>\n",
       "      <td>[]</td>\n",
       "      <td>[]</td>\n",
       "      <td>[]</td>\n",
       "    </tr>\n",
       "    <tr>\n",
       "      <th>27</th>\n",
       "      <td>[Scottish Highlands]</td>\n",
       "      <td>[Q106652]</td>\n",
       "      <td>[G]</td>\n",
       "    </tr>\n",
       "    <tr>\n",
       "      <th>28</th>\n",
       "      <td>[Android (operating system)]</td>\n",
       "      <td>[Q94]</td>\n",
       "      <td>[J]</td>\n",
       "    </tr>\n",
       "    <tr>\n",
       "      <th>29</th>\n",
       "      <td>[]</td>\n",
       "      <td>[]</td>\n",
       "      <td>[]</td>\n",
       "    </tr>\n",
       "    <tr>\n",
       "      <th>30</th>\n",
       "      <td>[IPadOS]</td>\n",
       "      <td>[Q64350339]</td>\n",
       "      <td>[N]</td>\n",
       "    </tr>\n",
       "    <tr>\n",
       "      <th>31</th>\n",
       "      <td>[IPad, Walmart]</td>\n",
       "      <td>[Q2796, Q483551]</td>\n",
       "      <td>[J, O]</td>\n",
       "    </tr>\n",
       "    <tr>\n",
       "      <th>32</th>\n",
       "      <td>[IPhone]</td>\n",
       "      <td>[Q2766]</td>\n",
       "      <td>[J]</td>\n",
       "    </tr>\n",
       "    <tr>\n",
       "      <th>33</th>\n",
       "      <td>[IOS]</td>\n",
       "      <td>[Q48493]</td>\n",
       "      <td>[J]</td>\n",
       "    </tr>\n",
       "    <tr>\n",
       "      <th>34</th>\n",
       "      <td>[Apple Inc., IOS]</td>\n",
       "      <td>[Q312, Q48493]</td>\n",
       "      <td>[O, J]</td>\n",
       "    </tr>\n",
       "    <tr>\n",
       "      <th>35</th>\n",
       "      <td>[IOS]</td>\n",
       "      <td>[Q48493]</td>\n",
       "      <td>[J]</td>\n",
       "    </tr>\n",
       "    <tr>\n",
       "      <th>36</th>\n",
       "      <td>[]</td>\n",
       "      <td>[]</td>\n",
       "      <td>[]</td>\n",
       "    </tr>\n",
       "    <tr>\n",
       "      <th>37</th>\n",
       "      <td>[]</td>\n",
       "      <td>[]</td>\n",
       "      <td>[]</td>\n",
       "    </tr>\n",
       "    <tr>\n",
       "      <th>38</th>\n",
       "      <td>[IPad]</td>\n",
       "      <td>[Q2796]</td>\n",
       "      <td>[J]</td>\n",
       "    </tr>\n",
       "    <tr>\n",
       "      <th>39</th>\n",
       "      <td>[Light-on-dark color scheme, OLED]</td>\n",
       "      <td>[Q6545942, Q209593]</td>\n",
       "      <td>[C, U]</td>\n",
       "    </tr>\n",
       "    <tr>\n",
       "      <th>40</th>\n",
       "      <td>[]</td>\n",
       "      <td>[]</td>\n",
       "      <td>[]</td>\n",
       "    </tr>\n",
       "    <tr>\n",
       "      <th>41</th>\n",
       "      <td>[]</td>\n",
       "      <td>[]</td>\n",
       "      <td>[]</td>\n",
       "    </tr>\n",
       "    <tr>\n",
       "      <th>42</th>\n",
       "      <td>[]</td>\n",
       "      <td>[]</td>\n",
       "      <td>[]</td>\n",
       "    </tr>\n",
       "    <tr>\n",
       "      <th>43</th>\n",
       "      <td>[]</td>\n",
       "      <td>[]</td>\n",
       "      <td>[]</td>\n",
       "    </tr>\n",
       "    <tr>\n",
       "      <th>44</th>\n",
       "      <td>[Android (operating system), Google, Apple Inc...</td>\n",
       "      <td>[Q94, Q95, Q312, Q290267]</td>\n",
       "      <td>[J, O, O, J]</td>\n",
       "    </tr>\n",
       "    <tr>\n",
       "      <th>45</th>\n",
       "      <td>[IFixit]</td>\n",
       "      <td>[Q984913]</td>\n",
       "      <td>[M]</td>\n",
       "    </tr>\n",
       "    <tr>\n",
       "      <th>46</th>\n",
       "      <td>[]</td>\n",
       "      <td>[]</td>\n",
       "      <td>[]</td>\n",
       "    </tr>\n",
       "    <tr>\n",
       "      <th>47</th>\n",
       "      <td>[TCU Horned Frogs football]</td>\n",
       "      <td>[Q7669786]</td>\n",
       "      <td>[F]</td>\n",
       "    </tr>\n",
       "    <tr>\n",
       "      <th>48</th>\n",
       "      <td>[]</td>\n",
       "      <td>[]</td>\n",
       "      <td>[]</td>\n",
       "    </tr>\n",
       "    <tr>\n",
       "      <th>49</th>\n",
       "      <td>[Porsche 911]</td>\n",
       "      <td>[Q219357]</td>\n",
       "      <td>[V]</td>\n",
       "    </tr>\n",
       "  </tbody>\n",
       "</table>\n",
       "</div>"
      ],
      "text/plain": [
       "                                 title_entities_names  \\\n",
       "0                                 [Waterville, Maine]   \n",
       "1                                                  []   \n",
       "2                                    [Houston Astros]   \n",
       "3                                                  []   \n",
       "4                                       [Lung cancer]   \n",
       "5                                 [Northern Kentucky]   \n",
       "6                                                  []   \n",
       "7                      [Lori Lightfoot, Canada goose]   \n",
       "8   [Chicago Bears, Mitchell Trubisky, Lori Lightf...   \n",
       "9                                     [Walt Williams]   \n",
       "10                                        [Tennessee]   \n",
       "11                                       [Apple Inc.]   \n",
       "12                                                 []   \n",
       "13                   [ITunes, MacOS Catalina, IPhone]   \n",
       "14                        [ITunes, Microsoft Windows]   \n",
       "15                                       [Adobe Inc.]   \n",
       "16                               [IPhone, Apple Inc.]   \n",
       "17                                              [IOS]   \n",
       "18                                        [IPhone SE]   \n",
       "19                            [IPhone SE, Apple Inc.]   \n",
       "20                              [IPad Pro, IPhone SE]   \n",
       "21                                             [OLED]   \n",
       "22                                                 []   \n",
       "23                                                 []   \n",
       "24                                                 []   \n",
       "25                               [Scottish Highlands]   \n",
       "26                                                 []   \n",
       "27                               [Scottish Highlands]   \n",
       "28                       [Android (operating system)]   \n",
       "29                                                 []   \n",
       "30                                           [IPadOS]   \n",
       "31                                    [IPad, Walmart]   \n",
       "32                                           [IPhone]   \n",
       "33                                              [IOS]   \n",
       "34                                  [Apple Inc., IOS]   \n",
       "35                                              [IOS]   \n",
       "36                                                 []   \n",
       "37                                                 []   \n",
       "38                                             [IPad]   \n",
       "39                 [Light-on-dark color scheme, OLED]   \n",
       "40                                                 []   \n",
       "41                                                 []   \n",
       "42                                                 []   \n",
       "43                                                 []   \n",
       "44  [Android (operating system), Google, Apple Inc...   \n",
       "45                                           [IFixit]   \n",
       "46                                                 []   \n",
       "47                        [TCU Horned Frogs football]   \n",
       "48                                                 []   \n",
       "49                                      [Porsche 911]   \n",
       "\n",
       "                       title_entities_wikiid title_entities_type  \n",
       "0                                  [Q997170]                 [G]  \n",
       "1                                         []                  []  \n",
       "2                                  [Q848117]                 [O]  \n",
       "3                                         []                  []  \n",
       "4                                   [Q47912]                 [C]  \n",
       "5                                 [Q7058599]                 [U]  \n",
       "6                                         []                  []  \n",
       "7                        [Q56486914, Q26733]              [N, U]  \n",
       "8   [Q205033, Q26405845, Q56486914, Q780442]        [O, P, N, O]  \n",
       "9                                 [Q1458276]                 [P]  \n",
       "10                                   [Q1509]                 [G]  \n",
       "11                                    [Q312]                 [O]  \n",
       "12                                        []                  []  \n",
       "13                 [Q9589, Q64351129, Q2766]           [W, N, J]  \n",
       "14                            [Q9589, Q1406]              [W, J]  \n",
       "15                                  [Q11463]                 [N]  \n",
       "16                             [Q2766, Q312]              [J, O]  \n",
       "17                                  [Q48493]                 [J]  \n",
       "18                               [Q23309966]                 [U]  \n",
       "19                         [Q23309966, Q312]              [U, O]  \n",
       "20                    [Q20962060, Q23309966]              [U, U]  \n",
       "21                                 [Q209593]                 [U]  \n",
       "22                                        []                  []  \n",
       "23                                        []                  []  \n",
       "24                                        []                  []  \n",
       "25                                 [Q106652]                 [G]  \n",
       "26                                        []                  []  \n",
       "27                                 [Q106652]                 [G]  \n",
       "28                                     [Q94]                 [J]  \n",
       "29                                        []                  []  \n",
       "30                               [Q64350339]                 [N]  \n",
       "31                          [Q2796, Q483551]              [J, O]  \n",
       "32                                   [Q2766]                 [J]  \n",
       "33                                  [Q48493]                 [J]  \n",
       "34                            [Q312, Q48493]              [O, J]  \n",
       "35                                  [Q48493]                 [J]  \n",
       "36                                        []                  []  \n",
       "37                                        []                  []  \n",
       "38                                   [Q2796]                 [J]  \n",
       "39                       [Q6545942, Q209593]              [C, U]  \n",
       "40                                        []                  []  \n",
       "41                                        []                  []  \n",
       "42                                        []                  []  \n",
       "43                                        []                  []  \n",
       "44                 [Q94, Q95, Q312, Q290267]        [J, O, O, J]  \n",
       "45                                 [Q984913]                 [M]  \n",
       "46                                        []                  []  \n",
       "47                                [Q7669786]                 [F]  \n",
       "48                                        []                  []  \n",
       "49                                 [Q219357]                 [V]  "
      ]
     },
     "execution_count": 11,
     "metadata": {},
     "output_type": "execute_result"
    }
   ],
   "source": [
    "# Selecting more entities to try based on organization type \n",
    "MIND_w_topics[['title_entities_names', 'title_entities_wikiid', 'title_entities_type']][0:50]"
   ]
  }
 ],
 "metadata": {
  "kernelspec": {
   "display_name": "Python 3",
   "language": "python",
   "name": "python3"
  },
  "language_info": {
   "codemirror_mode": {
    "name": "ipython",
    "version": 3
   },
   "file_extension": ".py",
   "mimetype": "text/x-python",
   "name": "python",
   "nbconvert_exporter": "python",
   "pygments_lexer": "ipython3",
   "version": "3.10.2"
  },
  "orig_nbformat": 4,
  "vscode": {
   "interpreter": {
    "hash": "7e1998ff7f8aa20ada591c520b972326324e5ea05489af9e422744c7c09f6dad"
   }
  }
 },
 "nbformat": 4,
 "nbformat_minor": 2
}
