{
 "cells": [
  {
   "cell_type": "markdown",
   "metadata": {},
   "source": [
    "## Summaries for SCADS Application \n",
    "\n",
    "Utilizing Occams to build single document summaries for SCADS Demo application use "
   ]
  },
  {
   "cell_type": "code",
   "execution_count": 1,
   "metadata": {},
   "outputs": [],
   "source": [
    "import pandas as pd\n",
    "import sqlite3\n",
    "import multisum as msu\n",
    "import re\n",
    "from tqdm import tqdm"
   ]
  },
  {
   "cell_type": "markdown",
   "metadata": {},
   "source": [
    "### Access Database"
   ]
  },
  {
   "cell_type": "code",
   "execution_count": 2,
   "metadata": {},
   "outputs": [],
   "source": [
    "# get data from sqlite file\n",
    "# resources: https://datacarpentry.org/python-ecology-lesson/09-working-with-sql/index.html\n",
    "con = sqlite3.connect(\"data_large/news (1).sqlite\")\n",
    "\n",
    "# use this to check schema details and table names\n",
    "# cur = con.cursor()\n",
    "# cur.execute('SELECT * FROM sqlite_master')\n",
    "# cur.fetchall()\n",
    "\n",
    "df = pd.read_sql_query(\"SELECT * FROM article\", con)\n",
    "con.close()"
   ]
  },
  {
   "cell_type": "code",
   "execution_count": 3,
   "metadata": {},
   "outputs": [
    {
     "data": {
      "text/plain": [
       "(22771, 6)"
      ]
     },
     "execution_count": 3,
     "metadata": {},
     "output_type": "execute_result"
    }
   ],
   "source": [
    "df.shape"
   ]
  },
  {
   "cell_type": "code",
   "execution_count": 4,
   "metadata": {},
   "outputs": [],
   "source": [
    "# Note: The database does not have the text from the article... boo. Merging values based on nid together.\n",
    "# This dataset has scrapped the article text from the URL in 'efs/home/strotto/MIND HTML Pre-Processing.ipynb'\n",
    "MIND_w_topics=pd.read_csv(\"~/efs/home/pcorona_content/MIND_Train_w_Topics.csv\")\n",
    "MIND_w_topics.sort_values(by=['Title', '_score_'], ascending=False, inplace=True)\n",
    "MIND_w_topics.drop_duplicates(subset=['Title'], keep='first', inplace=True)"
   ]
  },
  {
   "cell_type": "code",
   "execution_count": 5,
   "metadata": {},
   "outputs": [],
   "source": [
    "dff = df.merge(MIND_w_topics, how='left', left_on='title', right_on='Title')"
   ]
  },
  {
   "cell_type": "code",
   "execution_count": 6,
   "metadata": {},
   "outputs": [
    {
     "data": {
      "text/html": [
       "<div>\n",
       "<style scoped>\n",
       "    .dataframe tbody tr th:only-of-type {\n",
       "        vertical-align: middle;\n",
       "    }\n",
       "\n",
       "    .dataframe tbody tr th {\n",
       "        vertical-align: top;\n",
       "    }\n",
       "\n",
       "    .dataframe thead th {\n",
       "        text-align: right;\n",
       "    }\n",
       "</style>\n",
       "<table border=\"1\" class=\"dataframe\">\n",
       "  <thead>\n",
       "    <tr style=\"text-align: right;\">\n",
       "      <th></th>\n",
       "      <th>nid</th>\n",
       "      <th>cat</th>\n",
       "      <th>subcat</th>\n",
       "      <th>Title</th>\n",
       "      <th>abstract</th>\n",
       "      <th>display_date</th>\n",
       "      <th>Text</th>\n",
       "      <th>summary</th>\n",
       "    </tr>\n",
       "  </thead>\n",
       "  <tbody>\n",
       "    <tr>\n",
       "      <th>0</th>\n",
       "      <td>N61407</td>\n",
       "      <td>news</td>\n",
       "      <td>newspolitics</td>\n",
       "      <td>Giuliani associates: Debts, lawsuits and a hig...</td>\n",
       "      <td>As federal prosecutors pursue their case again...</td>\n",
       "      <td>11/09/2019</td>\n",
       "      <td>As federal prosecutors pursue their case again...</td>\n",
       "      <td></td>\n",
       "    </tr>\n",
       "    <tr>\n",
       "      <th>1</th>\n",
       "      <td>N31021</td>\n",
       "      <td>foodanddrink</td>\n",
       "      <td>newstrends</td>\n",
       "      <td>A Thai Soup Pop-Up Will Make a Fall Comeback a...</td>\n",
       "      <td>Plus, the Royal is all about Clue cocktails ne...</td>\n",
       "      <td>11/09/2019</td>\n",
       "      <td>Pop-ups seem to be everywhere in D.C. Here, Ea...</td>\n",
       "      <td></td>\n",
       "    </tr>\n",
       "    <tr>\n",
       "      <th>2</th>\n",
       "      <td>N22152</td>\n",
       "      <td>news</td>\n",
       "      <td>newspolitics</td>\n",
       "      <td>Joe Biden To Campaign In Los Angeles Next Week</td>\n",
       "      <td>Former Vice President Joe Biden will speak a L...</td>\n",
       "      <td>11/09/2019</td>\n",
       "      <td>LOS ANGELES, CA — Former Vice President Joe Bi...</td>\n",
       "      <td></td>\n",
       "    </tr>\n",
       "    <tr>\n",
       "      <th>3</th>\n",
       "      <td>N31914</td>\n",
       "      <td>travel</td>\n",
       "      <td>travelarticle</td>\n",
       "      <td>Voted 'Best Theme Park Christmas Event,' Dolly...</td>\n",
       "      <td>Get your jingle bells ready, because the Best ...</td>\n",
       "      <td>11/09/2019</td>\n",
       "      <td>Get your jingle bells ready, because the Best ...</td>\n",
       "      <td></td>\n",
       "    </tr>\n",
       "    <tr>\n",
       "      <th>4</th>\n",
       "      <td>N2142</td>\n",
       "      <td>news</td>\n",
       "      <td>newsgoodnews</td>\n",
       "      <td>Young trick-or-treater refills stranger's empt...</td>\n",
       "      <td>The touching moment was captured on a resident...</td>\n",
       "      <td>11/09/2019</td>\n",
       "      <td>While many kids dressed up in costumes to go t...</td>\n",
       "      <td></td>\n",
       "    </tr>\n",
       "    <tr>\n",
       "      <th>...</th>\n",
       "      <td>...</td>\n",
       "      <td>...</td>\n",
       "      <td>...</td>\n",
       "      <td>...</td>\n",
       "      <td>...</td>\n",
       "      <td>...</td>\n",
       "      <td>...</td>\n",
       "      <td>...</td>\n",
       "    </tr>\n",
       "    <tr>\n",
       "      <th>17427</th>\n",
       "      <td>N19321</td>\n",
       "      <td>news</td>\n",
       "      <td>newspolitics</td>\n",
       "      <td>Most Pennsylvania voters have dim view of Trum...</td>\n",
       "      <td>One year before Pennsylvania voters will head ...</td>\n",
       "      <td>11/15/2019</td>\n",
       "      <td>One year before Pennsylvania voters will head ...</td>\n",
       "      <td></td>\n",
       "    </tr>\n",
       "    <tr>\n",
       "      <th>17428</th>\n",
       "      <td>N29533</td>\n",
       "      <td>sports</td>\n",
       "      <td>tennis</td>\n",
       "      <td>Djokovic's hopes crushed as Federer serves up ...</td>\n",
       "      <td>Djokovic's hopes crushed as Federer serves up ...</td>\n",
       "      <td>11/15/2019</td>\n",
       "      <td>By Martyn Herman LONDON (Reuters) - Roger Fede...</td>\n",
       "      <td></td>\n",
       "    </tr>\n",
       "    <tr>\n",
       "      <th>17429</th>\n",
       "      <td>N10522</td>\n",
       "      <td>sports</td>\n",
       "      <td>football_nfl</td>\n",
       "      <td>Patrick Peterson will play vs. 49ers, per Card...</td>\n",
       "      <td></td>\n",
       "      <td>11/15/2019</td>\n",
       "      <td>Arizona Cardinals cornerback Patrick Peterson ...</td>\n",
       "      <td></td>\n",
       "    </tr>\n",
       "    <tr>\n",
       "      <th>17430</th>\n",
       "      <td>N47370</td>\n",
       "      <td>sports</td>\n",
       "      <td>football_nfl</td>\n",
       "      <td>4 things to watch for the rest of this Detroit...</td>\n",
       "      <td>Looking for a reason to keep watching this foo...</td>\n",
       "      <td>11/15/2019</td>\n",
       "      <td>Welcome to the end of hope! After last week’s ...</td>\n",
       "      <td></td>\n",
       "    </tr>\n",
       "    <tr>\n",
       "      <th>17431</th>\n",
       "      <td>N1443</td>\n",
       "      <td>entertainment</td>\n",
       "      <td>gaming</td>\n",
       "      <td>Rage 2 celebrates Thanksgiving with 'TerrorMania'</td>\n",
       "      <td>New expansion is keeping the Halloween spirit ...</td>\n",
       "      <td>11/15/2019</td>\n",
       "      <td>Rage 2 has a new zombie-themed DLC expansion c...</td>\n",
       "      <td></td>\n",
       "    </tr>\n",
       "  </tbody>\n",
       "</table>\n",
       "<p>17432 rows × 8 columns</p>\n",
       "</div>"
      ],
      "text/plain": [
       "          nid            cat         subcat  \\\n",
       "0      N61407           news   newspolitics   \n",
       "1      N31021   foodanddrink     newstrends   \n",
       "2      N22152           news   newspolitics   \n",
       "3      N31914         travel  travelarticle   \n",
       "4       N2142           news   newsgoodnews   \n",
       "...       ...            ...            ...   \n",
       "17427  N19321           news   newspolitics   \n",
       "17428  N29533         sports         tennis   \n",
       "17429  N10522         sports   football_nfl   \n",
       "17430  N47370         sports   football_nfl   \n",
       "17431   N1443  entertainment         gaming   \n",
       "\n",
       "                                                   Title  \\\n",
       "0      Giuliani associates: Debts, lawsuits and a hig...   \n",
       "1      A Thai Soup Pop-Up Will Make a Fall Comeback a...   \n",
       "2         Joe Biden To Campaign In Los Angeles Next Week   \n",
       "3      Voted 'Best Theme Park Christmas Event,' Dolly...   \n",
       "4      Young trick-or-treater refills stranger's empt...   \n",
       "...                                                  ...   \n",
       "17427  Most Pennsylvania voters have dim view of Trum...   \n",
       "17428  Djokovic's hopes crushed as Federer serves up ...   \n",
       "17429  Patrick Peterson will play vs. 49ers, per Card...   \n",
       "17430  4 things to watch for the rest of this Detroit...   \n",
       "17431  Rage 2 celebrates Thanksgiving with 'TerrorMania'   \n",
       "\n",
       "                                                abstract display_date  \\\n",
       "0      As federal prosecutors pursue their case again...   11/09/2019   \n",
       "1      Plus, the Royal is all about Clue cocktails ne...   11/09/2019   \n",
       "2      Former Vice President Joe Biden will speak a L...   11/09/2019   \n",
       "3      Get your jingle bells ready, because the Best ...   11/09/2019   \n",
       "4      The touching moment was captured on a resident...   11/09/2019   \n",
       "...                                                  ...          ...   \n",
       "17427  One year before Pennsylvania voters will head ...   11/15/2019   \n",
       "17428  Djokovic's hopes crushed as Federer serves up ...   11/15/2019   \n",
       "17429                                                      11/15/2019   \n",
       "17430  Looking for a reason to keep watching this foo...   11/15/2019   \n",
       "17431  New expansion is keeping the Halloween spirit ...   11/15/2019   \n",
       "\n",
       "                                                    Text summary  \n",
       "0      As federal prosecutors pursue their case again...          \n",
       "1      Pop-ups seem to be everywhere in D.C. Here, Ea...          \n",
       "2      LOS ANGELES, CA — Former Vice President Joe Bi...          \n",
       "3      Get your jingle bells ready, because the Best ...          \n",
       "4      While many kids dressed up in costumes to go t...          \n",
       "...                                                  ...     ...  \n",
       "17427  One year before Pennsylvania voters will head ...          \n",
       "17428  By Martyn Herman LONDON (Reuters) - Roger Fede...          \n",
       "17429  Arizona Cardinals cornerback Patrick Peterson ...          \n",
       "17430  Welcome to the end of hope! After last week’s ...          \n",
       "17431  Rage 2 has a new zombie-themed DLC expansion c...          \n",
       "\n",
       "[17432 rows x 8 columns]"
      ]
     },
     "execution_count": 6,
     "metadata": {},
     "output_type": "execute_result"
    }
   ],
   "source": [
    "to_sum = dff[~dff['Text'].isna()].reset_index()[['nid', 'cat', 'subcat', 'Title', 'abstract', 'display_date', 'Text']]\n",
    "to_sum['summary'] = ''\n",
    "to_sum"
   ]
  },
  {
   "cell_type": "markdown",
   "metadata": {},
   "source": [
    "### Summarize"
   ]
  },
  {
   "cell_type": "code",
   "execution_count": 7,
   "metadata": {},
   "outputs": [
    {
     "name": "stderr",
     "output_type": "stream",
     "text": [
      "100%|██████████| 17432/17432 [14:57<00:00, 19.43it/s]\n"
     ]
    }
   ],
   "source": [
    "# loop through all texts to summarize \n",
    "for ele in tqdm(range(0, len(to_sum))):\n",
    "    documents, doc_incidences, load_time = msu.load_corpus(to_sum.loc[ele:ele].reset_index(), 'Text')\n",
    "    # preprocessing occurs here, removing starting phrases and URLs\n",
    "    a = [x.text for x in documents[0].sentences if not bool(re.match(\"[A-Z]+( |:|-){1}\", str(x.text))) and not bool(re.match('(.*)(\\.com|\\.edu|\\.net|\\.org)', str(x.text)))]\n",
    "    to_sum['Text'][ele] = \" \".join(a)\n",
    "    documents, doc_incidences, load_time = msu.load_corpus(to_sum.loc[ele:ele].reset_index(), 'Text')\n",
    "\n",
    "    # if only 1 sentance has been recognized, then don't allow for summarization \n",
    "    if len(documents[0].sentences) > 1:\n",
    "        # summarizing with scheme \"sentences\", of length \"300\"\n",
    "        build_time, extract_time, sentences, doc_titles_new, extractor, sentence_weights = msu.summarize_collect(to_sum.loc[ele:ele].reset_index(), documents, doc_incidences, 'sentances', 300, False)\n",
    "        summary_text = [sentences[x].text for x in range(0, len(sentences))]\n",
    "    else: \n",
    "        summary_text = 'Summary Not Available'\n",
    "        \n",
    "    to_sum['summary'][ele] = summary_text\n",
    "\n",
    "to_sum.rename(columns = {'Title': 'title', 'Text':'text'}, inplace=True)\n",
    "to_sum.to_csv(\"out/sumSCADS_v3.csv\", index=False)"
   ]
  },
  {
   "cell_type": "code",
   "execution_count": 36,
   "metadata": {},
   "outputs": [],
   "source": [
    "to_sum['summary'] = [None if x == '' or x == [] or x == 'Summary Not Available' else x for x in to_sum['summary']]"
   ]
  },
  {
   "cell_type": "markdown",
   "metadata": {},
   "source": [
    "### Export data back to sqllite file"
   ]
  },
  {
   "cell_type": "code",
   "execution_count": 37,
   "metadata": {},
   "outputs": [],
   "source": [
    "# keep the original data (even if it doesn't have a summary)\n",
    "wdf = df.merge(to_sum[['nid', 'summary']], how='left', left_on='nid', right_on='nid')"
   ]
  },
  {
   "cell_type": "code",
   "execution_count": 71,
   "metadata": {},
   "outputs": [],
   "source": [
    "# turn array into string w/ unique delimiter \n",
    "wdf['sum'] = [\" | \".join(x) if type(x) == list else None for x in wdf['summary']]\n",
    "wdf = wdf[['nid', 'cat', 'subcat', 'title', 'abstract', 'display_date', 'sum']]"
   ]
  },
  {
   "cell_type": "code",
   "execution_count": 79,
   "metadata": {},
   "outputs": [],
   "source": [
    "con = sqlite3.connect(\"data_large/news (1).sqlite\")\n",
    "\n",
    "# Write the new DataFrame to a new SQLite table\n",
    "wdf.to_sql(\"articlesSum\", con, if_exists=\"replace\", index=False)\n",
    "\n",
    "con.close()"
   ]
  }
 ],
 "metadata": {
  "kernelspec": {
   "display_name": "occams3.7",
   "language": "python",
   "name": "python3"
  },
  "language_info": {
   "codemirror_mode": {
    "name": "ipython",
    "version": 3
   },
   "file_extension": ".py",
   "mimetype": "text/x-python",
   "name": "python",
   "nbconvert_exporter": "python",
   "pygments_lexer": "ipython3",
   "version": "3.7.4 (default, Jul  5 2022, 17:46:58) \n[GCC 9.4.0]"
  },
  "orig_nbformat": 4,
  "vscode": {
   "interpreter": {
    "hash": "c35f7f4fba3e06d1ea9a7fd2d8894efc0e475ab60feefc8a043db9f67392eaee"
   }
  }
 },
 "nbformat": 4,
 "nbformat_minor": 2
}
